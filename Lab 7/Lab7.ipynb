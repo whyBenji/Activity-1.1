{
 "cells": [
  {
   "cell_type": "raw",
   "metadata": {
    "vscode": {
     "languageId": "raw"
    }
   },
   "source": [
    "--- \n",
    "title : \"Lab 7\"\n",
    "author: Jatin Puri\n",
    "format:\n",
    "    html:\n",
    "        theme: cosmo\n",
    "        toc: true\n",
    "        embed-resources: true\n",
    "---"
   ]
  },
  {
   "cell_type": "code",
   "execution_count": 261,
   "metadata": {},
   "outputs": [],
   "source": [
    "import pandas as pd\n",
    "import numpy as np \n",
    "\n",
    "from palmerpenguins import load_penguins\n",
    "from sklearn.model_selection import train_test_split, GridSearchCV\n",
    "from sklearn.linear_model import LogisticRegression\n",
    "from sklearn.preprocessing import OneHotEncoder, StandardScaler, LabelEncoder\n",
    "from sklearn.neighbors import KNeighborsClassifier\n",
    "from sklearn.tree import DecisionTreeClassifier\n",
    "from sklearn.metrics import confusion_matrix, accuracy_score, classification_report, roc_auc_score, roc_curve, precision_score, recall_score, cohen_kappa_score\n",
    "from sklearn.compose import ColumnTransformer\n",
    "from sklearn.pipeline import Pipeline\n",
    "\n",
    "from plotnine import *"
   ]
  },
  {
   "cell_type": "code",
   "execution_count": 262,
   "metadata": {},
   "outputs": [],
   "source": [
    "df = pd.read_csv('/Users/benji/Documents/Machine Learning/Data/heart_attack.csv')"
   ]
  },
  {
   "cell_type": "code",
   "execution_count": 263,
   "metadata": {},
   "outputs": [
    {
     "data": {
      "text/html": [
       "<div>\n",
       "<style scoped>\n",
       "    .dataframe tbody tr th:only-of-type {\n",
       "        vertical-align: middle;\n",
       "    }\n",
       "\n",
       "    .dataframe tbody tr th {\n",
       "        vertical-align: top;\n",
       "    }\n",
       "\n",
       "    .dataframe thead th {\n",
       "        text-align: right;\n",
       "    }\n",
       "</style>\n",
       "<table border=\"1\" class=\"dataframe\">\n",
       "  <thead>\n",
       "    <tr style=\"text-align: right;\">\n",
       "      <th></th>\n",
       "      <th>age</th>\n",
       "      <th>sex</th>\n",
       "      <th>cp</th>\n",
       "      <th>trtbps</th>\n",
       "      <th>chol</th>\n",
       "      <th>restecg</th>\n",
       "      <th>thalach</th>\n",
       "      <th>output</th>\n",
       "    </tr>\n",
       "  </thead>\n",
       "  <tbody>\n",
       "    <tr>\n",
       "      <th>0</th>\n",
       "      <td>63</td>\n",
       "      <td>1</td>\n",
       "      <td>3</td>\n",
       "      <td>145</td>\n",
       "      <td>233</td>\n",
       "      <td>0</td>\n",
       "      <td>150</td>\n",
       "      <td>1</td>\n",
       "    </tr>\n",
       "    <tr>\n",
       "      <th>1</th>\n",
       "      <td>37</td>\n",
       "      <td>1</td>\n",
       "      <td>2</td>\n",
       "      <td>130</td>\n",
       "      <td>250</td>\n",
       "      <td>1</td>\n",
       "      <td>187</td>\n",
       "      <td>1</td>\n",
       "    </tr>\n",
       "    <tr>\n",
       "      <th>2</th>\n",
       "      <td>56</td>\n",
       "      <td>1</td>\n",
       "      <td>1</td>\n",
       "      <td>120</td>\n",
       "      <td>236</td>\n",
       "      <td>1</td>\n",
       "      <td>178</td>\n",
       "      <td>1</td>\n",
       "    </tr>\n",
       "    <tr>\n",
       "      <th>3</th>\n",
       "      <td>57</td>\n",
       "      <td>0</td>\n",
       "      <td>0</td>\n",
       "      <td>120</td>\n",
       "      <td>354</td>\n",
       "      <td>1</td>\n",
       "      <td>163</td>\n",
       "      <td>1</td>\n",
       "    </tr>\n",
       "    <tr>\n",
       "      <th>4</th>\n",
       "      <td>57</td>\n",
       "      <td>1</td>\n",
       "      <td>0</td>\n",
       "      <td>140</td>\n",
       "      <td>192</td>\n",
       "      <td>1</td>\n",
       "      <td>148</td>\n",
       "      <td>1</td>\n",
       "    </tr>\n",
       "  </tbody>\n",
       "</table>\n",
       "</div>"
      ],
      "text/plain": [
       "   age  sex  cp  trtbps  chol  restecg  thalach  output\n",
       "0   63    1   3     145   233        0      150       1\n",
       "1   37    1   2     130   250        1      187       1\n",
       "2   56    1   1     120   236        1      178       1\n",
       "3   57    0   0     120   354        1      163       1\n",
       "4   57    1   0     140   192        1      148       1"
      ]
     },
     "execution_count": 263,
     "metadata": {},
     "output_type": "execute_result"
    }
   ],
   "source": [
    "df.head()"
   ]
  },
  {
   "cell_type": "code",
   "execution_count": 264,
   "metadata": {},
   "outputs": [
    {
     "data": {
      "text/plain": [
       "age        0\n",
       "sex        0\n",
       "cp         0\n",
       "trtbps     0\n",
       "chol       0\n",
       "restecg    0\n",
       "thalach    0\n",
       "output     0\n",
       "dtype: int64"
      ]
     },
     "execution_count": 264,
     "metadata": {},
     "output_type": "execute_result"
    }
   ],
   "source": [
    "df.isna().sum()"
   ]
  },
  {
   "cell_type": "code",
   "execution_count": 265,
   "metadata": {},
   "outputs": [
    {
     "name": "stdout",
     "output_type": "stream",
     "text": [
      "<class 'pandas.core.frame.DataFrame'>\n",
      "RangeIndex: 273 entries, 0 to 272\n",
      "Data columns (total 8 columns):\n",
      " #   Column   Non-Null Count  Dtype\n",
      "---  ------   --------------  -----\n",
      " 0   age      273 non-null    int64\n",
      " 1   sex      273 non-null    int64\n",
      " 2   cp       273 non-null    int64\n",
      " 3   trtbps   273 non-null    int64\n",
      " 4   chol     273 non-null    int64\n",
      " 5   restecg  273 non-null    int64\n",
      " 6   thalach  273 non-null    int64\n",
      " 7   output   273 non-null    int64\n",
      "dtypes: int64(8)\n",
      "memory usage: 17.2 KB\n"
     ]
    }
   ],
   "source": [
    "df.info()"
   ]
  },
  {
   "cell_type": "code",
   "execution_count": 266,
   "metadata": {},
   "outputs": [
    {
     "data": {
      "text/plain": [
       "Index(['age', 'sex', 'cp', 'trtbps', 'chol', 'restecg', 'thalach', 'output'], dtype='object')"
      ]
     },
     "execution_count": 266,
     "metadata": {},
     "output_type": "execute_result"
    }
   ],
   "source": [
    "df.columns"
   ]
  },
  {
   "cell_type": "code",
   "execution_count": 267,
   "metadata": {},
   "outputs": [],
   "source": [
    "X = df.drop('output',axis=1)\n",
    "y = df['output']\n",
    "\n",
    "X_train, X_test, y_train, y_test = train_test_split(X, y, test_size=0.2, random_state=123)"
   ]
  },
  {
   "cell_type": "code",
   "execution_count": null,
   "metadata": {},
   "outputs": [],
   "source": []
  },
  {
   "cell_type": "markdown",
   "metadata": {},
   "source": [
    "# Part One: Fitting Models "
   ]
  },
  {
   "cell_type": "code",
   "execution_count": 268,
   "metadata": {},
   "outputs": [],
   "source": [
    "def modelPipeline(modelName, X=X_train, y=y_train, X_test = X_test, y_test= y_test):\n",
    "    ct = ColumnTransformer(\n",
    "    transformers=[\n",
    "        ('standardize', StandardScaler(),['age', 'sex', 'cp', 'trtbps', 'chol', 'restecg', 'thalach']),\n",
    "    ], remainder='passthrough'\n",
    ")\n",
    "    model = Pipeline(\n",
    "        steps= [\n",
    "            ('columnTransforme', ct),\n",
    "            ('Model',modelName)\n",
    "        ]\n",
    "    )\n",
    "    model.fit(X,y)\n",
    "    \n",
    "    yPred = model.predict(X_test)\n",
    "    y_pred_prob = model.predict_proba(X_test)[:, 1] \n",
    "\n",
    "    cm = confusion_matrix(y_test, yPred)\n",
    "    auc = roc_auc_score(y_test, y_pred_prob)\n",
    "    ps = precision_score(y_test, yPred)\n",
    "    rs = recall_score(y_test,yPred)\n",
    "    kappa = cohen_kappa_score(y_test, yPred)\n",
    "    specificity_score = recall_score(y_test,yPred, pos_label=0)\n",
    "    print(\"AUC Score:\", auc)\n",
    "    print(\"Confusion Matrix:\")\n",
    "    print(cm)\n",
    "    return model, y_pred_prob, auc, ps, rs, kappa, cm, specificity_score"
   ]
  },
  {
   "cell_type": "code",
   "execution_count": 269,
   "metadata": {},
   "outputs": [],
   "source": [
    "def tunning(model,X=X,y=y):\n",
    "    \n",
    "    gridSearch = GridSearchCV(model, param_grid = paramGrid , scoring='roc_auc', cv=10)\n",
    "    gridSearch.fit(X, y)\n",
    "\n",
    "    return gridSearch.best_params_"
   ]
  },
  {
   "cell_type": "markdown",
   "metadata": {},
   "source": [
    "## Q1 KNN"
   ]
  },
  {
   "cell_type": "code",
   "execution_count": 270,
   "metadata": {},
   "outputs": [
    {
     "data": {
      "text/plain": [
       "{'n_neighbors': 20}"
      ]
     },
     "execution_count": 270,
     "metadata": {},
     "output_type": "execute_result"
    }
   ],
   "source": [
    "knn = KNeighborsClassifier()\n",
    "# parameter grid\n",
    "paramGrid = {'n_neighbors': range(1, 21)} \n",
    "\n",
    "tunning(knn)\n"
   ]
  },
  {
   "cell_type": "code",
   "execution_count": 271,
   "metadata": {},
   "outputs": [
    {
     "name": "stdout",
     "output_type": "stream",
     "text": [
      "AUC Score: 0.833994708994709\n",
      "Confusion Matrix:\n",
      "[[19  9]\n",
      " [ 4 23]]\n"
     ]
    }
   ],
   "source": [
    "best_knn = modelPipeline(KNeighborsClassifier(n_neighbors = 20))"
   ]
  },
  {
   "cell_type": "markdown",
   "metadata": {},
   "source": [
    "Using n_neighbours = 5, model gives us better prediction comapred to using the parameter we got from GridSearchCV, This might be the case of overfitting as the lesser n_neighbours can lead up to over fitting. Let's see the other metrics in Part two."
   ]
  },
  {
   "cell_type": "markdown",
   "metadata": {},
   "source": [
    "## Q2 Logistic Regression"
   ]
  },
  {
   "cell_type": "markdown",
   "metadata": {},
   "source": [
    "ChatGPT was used to create the paramGrid."
   ]
  },
  {
   "cell_type": "code",
   "execution_count": 272,
   "metadata": {},
   "outputs": [
    {
     "data": {
      "text/plain": [
       "{'C': 1, 'penalty': 'l2', 'solver': 'liblinear'}"
      ]
     },
     "execution_count": 272,
     "metadata": {},
     "output_type": "execute_result"
    }
   ],
   "source": [
    "lr = LogisticRegression()\n",
    "paramGrid = {\n",
    "    'C': [0.01, 0.1, 1, 10],  # Regularization strength\n",
    "    'penalty': ['l1', 'l2'],  # Regularization type\n",
    "    'solver': ['liblinear']   # Compatible solver\n",
    "}\n",
    "tunning(lr)\n"
   ]
  },
  {
   "cell_type": "code",
   "execution_count": 273,
   "metadata": {},
   "outputs": [
    {
     "name": "stdout",
     "output_type": "stream",
     "text": [
      "AUC Score: 0.8227513227513228\n",
      "Confusion Matrix:\n",
      "[[20  8]\n",
      " [ 4 23]]\n"
     ]
    }
   ],
   "source": [
    "best_lr = modelPipeline(LogisticRegression(C = 1, penalty = 'l2', solver = 'liblinear'))"
   ]
  },
  {
   "cell_type": "markdown",
   "metadata": {},
   "source": [
    "## Q3 Decision Tree"
   ]
  },
  {
   "cell_type": "markdown",
   "metadata": {},
   "source": [
    "ChatGPT was used to create the paramGrid."
   ]
  },
  {
   "cell_type": "code",
   "execution_count": 274,
   "metadata": {},
   "outputs": [
    {
     "data": {
      "text/plain": [
       "{'criterion': 'gini',\n",
       " 'max_depth': 3,\n",
       " 'min_samples_leaf': 2,\n",
       " 'min_samples_split': 2}"
      ]
     },
     "execution_count": 274,
     "metadata": {},
     "output_type": "execute_result"
    }
   ],
   "source": [
    "dt = DecisionTreeClassifier()\n",
    "paramGrid = {\n",
    "    'criterion': ['gini', 'entropy'],           # Splitting criteria\n",
    "    'max_depth': [3, 5, 10, None],              # Tree depth\n",
    "    'min_samples_split': [2, 5, 10],            # Minimum samples to split\n",
    "    'min_samples_leaf': [1, 2, 4],              # Minimum samples per leaf\n",
    "}\n",
    "tunning(dt)\n"
   ]
  },
  {
   "cell_type": "code",
   "execution_count": 275,
   "metadata": {},
   "outputs": [
    {
     "name": "stdout",
     "output_type": "stream",
     "text": [
      "AUC Score: 0.8247354497354498\n",
      "Confusion Matrix:\n",
      "[[24  4]\n",
      " [ 7 20]]\n"
     ]
    }
   ],
   "source": [
    "best_dt = modelPipeline(DecisionTreeClassifier(criterion='gini', max_depth = 3, min_samples_leaf = 2, min_samples_split = 2))"
   ]
  },
  {
   "cell_type": "markdown",
   "metadata": {},
   "source": [
    "## Q4 Interpretation"
   ]
  },
  {
   "cell_type": "markdown",
   "metadata": {},
   "source": [
    "ChatGPT was used create debug and uderstand the following code."
   ]
  },
  {
   "cell_type": "code",
   "execution_count": 293,
   "metadata": {},
   "outputs": [],
   "source": [
    "def extract_feature_importance(model, feature_names):\n",
    "    \"\"\"\n",
    "    Extract and print feature importance or coefficients from a given model.\n",
    "    Works for tree-based models, logistic regression, and supports permutation importance.\n",
    "\n",
    "    Parameters:\n",
    "    - model: Trained pipeline model.\n",
    "    - feature_names: List of feature names (from X_train.columns).\n",
    "    \n",
    "    Returns:\n",
    "    - A DataFrame containing features and their importance.\n",
    "    \"\"\"\n",
    "    # Check for tree-based feature importance\n",
    "    if hasattr(model.named_steps['Model'], 'feature_importances_'):\n",
    "        importance = model.named_steps['Model'].feature_importances_\n",
    "        importance_df = pd.DataFrame({'Feature': feature_names, 'Importance': importance})\n",
    "    \n",
    "    # Check for logistic regression coefficients\n",
    "    elif hasattr(model.named_steps['Model'], 'coef_'):\n",
    "        coefficients = abs(model.named_steps['Model'].coef_[0])\n",
    "        importance_df = pd.DataFrame({'Feature': feature_names, 'Importance': coefficients})\n",
    "    \n",
    "    # If no direct method, raise exception or fallback to permutation importance\n",
    "    else:\n",
    "        raise ValueError(\"The model does not support direct feature importance extraction.\")\n",
    "    \n",
    "    # Sort by importance\n",
    "    importance_df = importance_df.sort_values(by='Importance', ascending=False)\n",
    "    return importance_df\n"
   ]
  },
  {
   "cell_type": "code",
   "execution_count": 301,
   "metadata": {},
   "outputs": [
    {
     "data": {
      "text/html": [
       "<div>\n",
       "<style scoped>\n",
       "    .dataframe tbody tr th:only-of-type {\n",
       "        vertical-align: middle;\n",
       "    }\n",
       "\n",
       "    .dataframe tbody tr th {\n",
       "        vertical-align: top;\n",
       "    }\n",
       "\n",
       "    .dataframe thead th {\n",
       "        text-align: right;\n",
       "    }\n",
       "</style>\n",
       "<table border=\"1\" class=\"dataframe\">\n",
       "  <thead>\n",
       "    <tr style=\"text-align: right;\">\n",
       "      <th></th>\n",
       "      <th>Feature</th>\n",
       "      <th>Importance</th>\n",
       "    </tr>\n",
       "  </thead>\n",
       "  <tbody>\n",
       "    <tr>\n",
       "      <th>6</th>\n",
       "      <td>thalach</td>\n",
       "      <td>1.016869</td>\n",
       "    </tr>\n",
       "    <tr>\n",
       "      <th>2</th>\n",
       "      <td>cp</td>\n",
       "      <td>0.999374</td>\n",
       "    </tr>\n",
       "    <tr>\n",
       "      <th>1</th>\n",
       "      <td>sex</td>\n",
       "      <td>0.895098</td>\n",
       "    </tr>\n",
       "    <tr>\n",
       "      <th>3</th>\n",
       "      <td>trtbps</td>\n",
       "      <td>0.432617</td>\n",
       "    </tr>\n",
       "    <tr>\n",
       "      <th>4</th>\n",
       "      <td>chol</td>\n",
       "      <td>0.267111</td>\n",
       "    </tr>\n",
       "    <tr>\n",
       "      <th>5</th>\n",
       "      <td>restecg</td>\n",
       "      <td>0.227003</td>\n",
       "    </tr>\n",
       "    <tr>\n",
       "      <th>0</th>\n",
       "      <td>age</td>\n",
       "      <td>0.162029</td>\n",
       "    </tr>\n",
       "  </tbody>\n",
       "</table>\n",
       "</div>"
      ],
      "text/plain": [
       "   Feature  Importance\n",
       "6  thalach    1.016869\n",
       "2       cp    0.999374\n",
       "1      sex    0.895098\n",
       "3   trtbps    0.432617\n",
       "4     chol    0.267111\n",
       "5  restecg    0.227003\n",
       "0      age    0.162029"
      ]
     },
     "execution_count": 301,
     "metadata": {},
     "output_type": "execute_result"
    }
   ],
   "source": [
    "extract_feature_importance(best_lr[0],list(X.columns))"
   ]
  },
  {
   "cell_type": "code",
   "execution_count": 299,
   "metadata": {},
   "outputs": [
    {
     "data": {
      "text/html": [
       "<div>\n",
       "<style scoped>\n",
       "    .dataframe tbody tr th:only-of-type {\n",
       "        vertical-align: middle;\n",
       "    }\n",
       "\n",
       "    .dataframe tbody tr th {\n",
       "        vertical-align: top;\n",
       "    }\n",
       "\n",
       "    .dataframe thead th {\n",
       "        text-align: right;\n",
       "    }\n",
       "</style>\n",
       "<table border=\"1\" class=\"dataframe\">\n",
       "  <thead>\n",
       "    <tr style=\"text-align: right;\">\n",
       "      <th></th>\n",
       "      <th>Feature</th>\n",
       "      <th>Importance</th>\n",
       "    </tr>\n",
       "  </thead>\n",
       "  <tbody>\n",
       "    <tr>\n",
       "      <th>2</th>\n",
       "      <td>cp</td>\n",
       "      <td>0.642744</td>\n",
       "    </tr>\n",
       "    <tr>\n",
       "      <th>1</th>\n",
       "      <td>sex</td>\n",
       "      <td>0.145435</td>\n",
       "    </tr>\n",
       "    <tr>\n",
       "      <th>6</th>\n",
       "      <td>thalach</td>\n",
       "      <td>0.121322</td>\n",
       "    </tr>\n",
       "    <tr>\n",
       "      <th>0</th>\n",
       "      <td>age</td>\n",
       "      <td>0.090499</td>\n",
       "    </tr>\n",
       "    <tr>\n",
       "      <th>3</th>\n",
       "      <td>trtbps</td>\n",
       "      <td>0.000000</td>\n",
       "    </tr>\n",
       "    <tr>\n",
       "      <th>4</th>\n",
       "      <td>chol</td>\n",
       "      <td>0.000000</td>\n",
       "    </tr>\n",
       "    <tr>\n",
       "      <th>5</th>\n",
       "      <td>restecg</td>\n",
       "      <td>0.000000</td>\n",
       "    </tr>\n",
       "  </tbody>\n",
       "</table>\n",
       "</div>"
      ],
      "text/plain": [
       "   Feature  Importance\n",
       "2       cp    0.642744\n",
       "1      sex    0.145435\n",
       "6  thalach    0.121322\n",
       "0      age    0.090499\n",
       "3   trtbps    0.000000\n",
       "4     chol    0.000000\n",
       "5  restecg    0.000000"
      ]
     },
     "execution_count": 299,
     "metadata": {},
     "output_type": "execute_result"
    }
   ],
   "source": [
    "extract_feature_importance(best_dt[0],list(X.columns))"
   ]
  },
  {
   "cell_type": "markdown",
   "metadata": {},
   "source": [
    "Which predictors were most important to predicting heart attack risk?<br>\n",
    "**thalach, cp, sex** were the top 3 important features."
   ]
  },
  {
   "cell_type": "markdown",
   "metadata": {},
   "source": [
    "## Q5 ROC Curve"
   ]
  },
  {
   "cell_type": "code",
   "execution_count": 276,
   "metadata": {},
   "outputs": [
    {
     "data": {
      "image/png": "[encoded data removed]"
     },
     "metadata": {
      "image/png": {
       "height": 480,
       "width": 640
      }
     },
     "output_type": "display_data"
    }
   ],
   "source": [
    "# KNN\n",
    "fpr_knn, tpr_knn, _ = roc_curve(y_test, best_knn[1])\n",
    "\n",
    "# Logistic Regression\n",
    "fpr_logreg, tpr_logreg, _ = roc_curve(y_test, best_lr[1])\n",
    "\n",
    "# Decision Tree\n",
    "fpr_dt, tpr_dt, _ = roc_curve(y_test, best_dt[1])\n",
    "\n",
    "\n",
    "roc_data = pd.DataFrame({\n",
    "    'FPR': np.concatenate([fpr_knn, fpr_logreg, fpr_dt]),\n",
    "    'TPR': np.concatenate([tpr_knn, tpr_logreg, tpr_dt]),\n",
    "    'model': ['KNN'] * len(fpr_knn) + ['LogReg'] * len(fpr_logreg) + ['DecisionTree'] * len(fpr_dt)\n",
    "})\n",
    "\n",
    "# Create the ROC plot using plotnine\n",
    "\n",
    "roc_plot = (\n",
    "    ggplot(roc_data, aes(x='FPR', y='TPR', color = 'model')) +\n",
    "    geom_line() +\n",
    "    geom_abline(intercept=0, slope=1, linetype=\"dashed\", color=\"red\") +\n",
    "    labs(\n",
    "        x=\"False Positive Rate\",\n",
    "        y=\"True Positive Rate\",\n",
    "        title=f\"ROC Curve for Species Adelie\"\n",
    "    ) +\n",
    "    theme_minimal()\n",
    ")\n",
    "display(roc_plot)"
   ]
  },
  {
   "cell_type": "markdown",
   "metadata": {},
   "source": [
    "# Part Two: Metrics"
   ]
  },
  {
   "cell_type": "markdown",
   "metadata": {},
   "source": [
    "Consider the following metrics:\n",
    "\n",
    "- True Positive Rate or Recall or Sensitivity = Of the observations that are truly Class A, how many were predicted to be Class A?\n",
    "\n",
    "- Precision or Positive Predictive Value = Of all the observations classified as Class A, how many of them were truly from Class A?\n",
    "\n",
    "- True Negative Rate or Specificity or Negative Predictive Value = Of all the observations classified as NOT Class A, how many were truly NOT Class A?\n",
    "\n",
    "Compute each of these metrics (cross-validated) for your three models (KNN, Logistic Regression, and Decision Tree) in Part One."
   ]
  },
  {
   "cell_type": "code",
   "execution_count": null,
   "metadata": {},
   "outputs": [
    {
     "data": {
      "text/html": [
       "<div>\n",
       "<style scoped>\n",
       "    .dataframe tbody tr th:only-of-type {\n",
       "        vertical-align: middle;\n",
       "    }\n",
       "\n",
       "    .dataframe tbody tr th {\n",
       "        vertical-align: top;\n",
       "    }\n",
       "\n",
       "    .dataframe thead th {\n",
       "        text-align: right;\n",
       "    }\n",
       "</style>\n",
       "<table border=\"1\" class=\"dataframe\">\n",
       "  <thead>\n",
       "    <tr style=\"text-align: right;\">\n",
       "      <th></th>\n",
       "      <th>Model</th>\n",
       "      <th>AUC</th>\n",
       "      <th>Precision</th>\n",
       "      <th>Recall</th>\n",
       "      <th>Specificity</th>\n",
       "    </tr>\n",
       "  </thead>\n",
       "  <tbody>\n",
       "    <tr>\n",
       "      <th>0</th>\n",
       "      <td>KNN</td>\n",
       "      <td>0.833995</td>\n",
       "      <td>0.718750</td>\n",
       "      <td>0.851852</td>\n",
       "      <td>0.678571</td>\n",
       "    </tr>\n",
       "    <tr>\n",
       "      <th>1</th>\n",
       "      <td>Logistic Regression</td>\n",
       "      <td>0.822751</td>\n",
       "      <td>0.741935</td>\n",
       "      <td>0.851852</td>\n",
       "      <td>0.714286</td>\n",
       "    </tr>\n",
       "    <tr>\n",
       "      <th>2</th>\n",
       "      <td>Decision Tree</td>\n",
       "      <td>0.824735</td>\n",
       "      <td>0.833333</td>\n",
       "      <td>0.740741</td>\n",
       "      <td>0.857143</td>\n",
       "    </tr>\n",
       "  </tbody>\n",
       "</table>\n",
       "</div>"
      ],
      "text/plain": [
       "                 Model       AUC  Precision    Recall  Specificity\n",
       "0                  KNN  0.833995   0.718750  0.851852     0.678571\n",
       "1  Logistic Regression  0.822751   0.741935  0.851852     0.714286\n",
       "2        Decision Tree  0.824735   0.833333  0.740741     0.857143"
      ]
     },
     "execution_count": 291,
     "metadata": {},
     "output_type": "execute_result"
    }
   ],
   "source": [
    "# Metrics for all models\n",
    "metrics = pd.DataFrame({\n",
    "    'Model': ['KNN', 'Logistic Regression', 'Decision Tree'],\n",
    "    'AUC': [best_knn[2], best_lr[2], best_dt[2]],\n",
    "    'Precision': [best_knn[3], best_lr[3], best_dt[3]],\n",
    "    'Recall': [best_knn[4], best_lr[4], best_dt[4]],\n",
    "    'Specificity': [best_knn[7], best_lr[7], best_dt[7]]\n",
    "})\n",
    "metrics"
   ]
  },
  {
   "cell_type": "markdown",
   "metadata": {},
   "source": [
    "# Part Three: Discussion"
   ]
  },
  {
   "cell_type": "markdown",
   "metadata": {},
   "source": [
    "Suppose you have been hired by a hospital to create classification models for heart attack risk.<br>\n",
    "\n",
    "The following questions give a possible scenario for why the hospital is interested in these models. For each one, discuss:<br>\n",
    "\n",
    "- Which metric(s) you would use for model selection and why.<br>\n",
    "\n",
    "- Which of your final models (Part One Q1-3) you would recommend to the hospital, and why.<br>\n",
    "\n",
    "- What score you should expect for your chosen metric(s) using your chosen model to predict future observations.<br>"
   ]
  },
  {
   "cell_type": "markdown",
   "metadata": {},
   "source": [
    "### Q1\n",
    "The hospital faces severe lawsuits if they deem a patient to be low risk, and that patient later experiences a heart attack. <br>\n",
    "\n",
    "- Recall metric should be used. As it reduces the chances of missing patients who are at risk (false negatives).<br>\n",
    "- Both KNN and Logistic Regressionn have same Recall value, but logistic regression have better specificity so I will choose Logistic regression.<br>\n",
    "- Recall score for logistic regression whould 85.2% which means it will be correct 85% of the times.<br>"
   ]
  },
  {
   "cell_type": "markdown",
   "metadata": {},
   "source": [
    "### Q2\n",
    "The hospital is overfull, and wants to only use bed space for patients most in need of monitoring due to heart attack risk.<br>\n",
    "- Precisionn should be used. At the accuracy of classifing true patients at risk will be more.<br>\n",
    "- Decisionn Tree will be recommanded as it has the highest precision and specificity.<br>\n",
    "- Precision score of Decision Tree will be 83.3% which mean it will 83% of the time correctly classify the at risk patients.<br>"
   ]
  },
  {
   "cell_type": "markdown",
   "metadata": {},
   "source": [
    "### Q3\n",
    "The hospital is studying root causes of heart attacks, and would like to understand which biological measures are associated with heart attack risk.<br>\n",
    "- AUC should be used as it will give the overall performance.<br>\n",
    "- KNN shuold be used as it the the highest AUC score.<br>\n",
    "- Expected score for the AUC of KNN will be 83.3%.<br>"
   ]
  },
  {
   "cell_type": "markdown",
   "metadata": {},
   "source": [
    "### Q4\n",
    "The hospital is training a new batch of doctors, and they would like to compare the diagnoses of these doctors to the predictions given by the algorithm to measure the ability of new doctors to diagnose patients.<br>\n",
    "- Cohan's Kappa should be used as it works best for compairing the two probable outcome.<br>\n",
    "- For the model we should used KNN as it has the highest AUC score as it gives us the overall performance of the model.<br>\n",
    "- Expected score of the model will 83.3% but the cohan's kappa score will vary depending on the doctor's predictions.<br>"
   ]
  },
  {
   "cell_type": "markdown",
   "metadata": {},
   "source": [
    "# Part Four: Validation"
   ]
  },
  {
   "cell_type": "markdown",
   "metadata": {},
   "source": [
    "Before sharing the dataset with you, I set aside a random 10% of the observations to serve as a final validation set."
   ]
  },
  {
   "cell_type": "code",
   "execution_count": 278,
   "metadata": {},
   "outputs": [],
   "source": [
    "ha_validation = pd.read_csv(\"https://www.dropbox.com/s/jkwqdiyx6o6oad0/heart_attack_validation.csv?dl=1\")"
   ]
  },
  {
   "cell_type": "code",
   "execution_count": 279,
   "metadata": {},
   "outputs": [
    {
     "data": {
      "text/html": [
       "<div>\n",
       "<style scoped>\n",
       "    .dataframe tbody tr th:only-of-type {\n",
       "        vertical-align: middle;\n",
       "    }\n",
       "\n",
       "    .dataframe tbody tr th {\n",
       "        vertical-align: top;\n",
       "    }\n",
       "\n",
       "    .dataframe thead th {\n",
       "        text-align: right;\n",
       "    }\n",
       "</style>\n",
       "<table border=\"1\" class=\"dataframe\">\n",
       "  <thead>\n",
       "    <tr style=\"text-align: right;\">\n",
       "      <th></th>\n",
       "      <th>age</th>\n",
       "      <th>sex</th>\n",
       "      <th>cp</th>\n",
       "      <th>trtbps</th>\n",
       "      <th>chol</th>\n",
       "      <th>restecg</th>\n",
       "      <th>thalach</th>\n",
       "      <th>output</th>\n",
       "    </tr>\n",
       "  </thead>\n",
       "  <tbody>\n",
       "    <tr>\n",
       "      <th>0</th>\n",
       "      <td>41</td>\n",
       "      <td>0</td>\n",
       "      <td>1</td>\n",
       "      <td>130</td>\n",
       "      <td>204</td>\n",
       "      <td>0</td>\n",
       "      <td>172</td>\n",
       "      <td>1</td>\n",
       "    </tr>\n",
       "    <tr>\n",
       "      <th>1</th>\n",
       "      <td>64</td>\n",
       "      <td>1</td>\n",
       "      <td>3</td>\n",
       "      <td>110</td>\n",
       "      <td>211</td>\n",
       "      <td>0</td>\n",
       "      <td>144</td>\n",
       "      <td>1</td>\n",
       "    </tr>\n",
       "    <tr>\n",
       "      <th>2</th>\n",
       "      <td>59</td>\n",
       "      <td>1</td>\n",
       "      <td>0</td>\n",
       "      <td>135</td>\n",
       "      <td>234</td>\n",
       "      <td>1</td>\n",
       "      <td>161</td>\n",
       "      <td>1</td>\n",
       "    </tr>\n",
       "    <tr>\n",
       "      <th>3</th>\n",
       "      <td>42</td>\n",
       "      <td>1</td>\n",
       "      <td>0</td>\n",
       "      <td>140</td>\n",
       "      <td>226</td>\n",
       "      <td>1</td>\n",
       "      <td>178</td>\n",
       "      <td>1</td>\n",
       "    </tr>\n",
       "    <tr>\n",
       "      <th>4</th>\n",
       "      <td>40</td>\n",
       "      <td>1</td>\n",
       "      <td>3</td>\n",
       "      <td>140</td>\n",
       "      <td>199</td>\n",
       "      <td>1</td>\n",
       "      <td>178</td>\n",
       "      <td>1</td>\n",
       "    </tr>\n",
       "  </tbody>\n",
       "</table>\n",
       "</div>"
      ],
      "text/plain": [
       "   age  sex  cp  trtbps  chol  restecg  thalach  output\n",
       "0   41    0   1     130   204        0      172       1\n",
       "1   64    1   3     110   211        0      144       1\n",
       "2   59    1   0     135   234        1      161       1\n",
       "3   42    1   0     140   226        1      178       1\n",
       "4   40    1   3     140   199        1      178       1"
      ]
     },
     "execution_count": 279,
     "metadata": {},
     "output_type": "execute_result"
    }
   ],
   "source": [
    "ha_validation.head()"
   ]
  },
  {
   "cell_type": "code",
   "execution_count": 280,
   "metadata": {},
   "outputs": [
    {
     "data": {
      "text/plain": [
       "age        0\n",
       "sex        0\n",
       "cp         0\n",
       "trtbps     0\n",
       "chol       0\n",
       "restecg    0\n",
       "thalach    0\n",
       "output     0\n",
       "dtype: int64"
      ]
     },
     "execution_count": 280,
     "metadata": {},
     "output_type": "execute_result"
    }
   ],
   "source": [
    "ha_validation.isnull().sum()"
   ]
  },
  {
   "cell_type": "code",
   "execution_count": 281,
   "metadata": {},
   "outputs": [],
   "source": [
    "X_val = ha_validation.drop('output',axis=1)\n",
    "y_val = ha_validation['output']"
   ]
  },
  {
   "cell_type": "markdown",
   "metadata": {},
   "source": [
    "Use each of your final models in Part One Q1-3, predict the target variable in the validation dataset.<br>\n",
    "For each, output a confusion matrix, and report the ROC AUC, the precision, and the recall."
   ]
  },
  {
   "cell_type": "code",
   "execution_count": 282,
   "metadata": {},
   "outputs": [
    {
     "name": "stdout",
     "output_type": "stream",
     "text": [
      "AUC Score: 0.9688995215311005\n",
      "Confusion Matrix:\n",
      "[[10  1]\n",
      " [ 3 16]]\n"
     ]
    }
   ],
   "source": [
    "knn_val = modelPipeline(KNeighborsClassifier(n_neighbors = 20), X_test= X_val, y_test= y_val)"
   ]
  },
  {
   "cell_type": "code",
   "execution_count": 283,
   "metadata": {},
   "outputs": [
    {
     "name": "stdout",
     "output_type": "stream",
     "text": [
      "AUC Score: 0.9186602870813397\n",
      "Confusion Matrix:\n",
      "[[10  1]\n",
      " [ 4 15]]\n"
     ]
    }
   ],
   "source": [
    "lr_val = modelPipeline(LogisticRegression(C = 1, penalty = 'l2', solver = 'liblinear'), X_test= X_val, y_test= y_val)"
   ]
  },
  {
   "cell_type": "code",
   "execution_count": 284,
   "metadata": {},
   "outputs": [
    {
     "name": "stdout",
     "output_type": "stream",
     "text": [
      "AUC Score: 0.8803827751196173\n",
      "Confusion Matrix:\n",
      "[[11  0]\n",
      " [ 8 11]]\n"
     ]
    }
   ],
   "source": [
    "dt_val = modelPipeline(DecisionTreeClassifier(criterion='gini', max_depth = 3, min_samples_leaf = 2, min_samples_split = 2), X_test= X_val, y_test= y_val)"
   ]
  },
  {
   "cell_type": "code",
   "execution_count": 292,
   "metadata": {},
   "outputs": [
    {
     "data": {
      "text/html": [
       "<div>\n",
       "<style scoped>\n",
       "    .dataframe tbody tr th:only-of-type {\n",
       "        vertical-align: middle;\n",
       "    }\n",
       "\n",
       "    .dataframe tbody tr th {\n",
       "        vertical-align: top;\n",
       "    }\n",
       "\n",
       "    .dataframe thead th {\n",
       "        text-align: right;\n",
       "    }\n",
       "</style>\n",
       "<table border=\"1\" class=\"dataframe\">\n",
       "  <thead>\n",
       "    <tr style=\"text-align: right;\">\n",
       "      <th></th>\n",
       "      <th>Model</th>\n",
       "      <th>AUC</th>\n",
       "      <th>Precision</th>\n",
       "      <th>Recall</th>\n",
       "    </tr>\n",
       "  </thead>\n",
       "  <tbody>\n",
       "    <tr>\n",
       "      <th>0</th>\n",
       "      <td>KNN</td>\n",
       "      <td>0.968900</td>\n",
       "      <td>0.941176</td>\n",
       "      <td>0.842105</td>\n",
       "    </tr>\n",
       "    <tr>\n",
       "      <th>1</th>\n",
       "      <td>Logistic Regression</td>\n",
       "      <td>0.918660</td>\n",
       "      <td>0.937500</td>\n",
       "      <td>0.789474</td>\n",
       "    </tr>\n",
       "    <tr>\n",
       "      <th>2</th>\n",
       "      <td>Decision Tree</td>\n",
       "      <td>0.880383</td>\n",
       "      <td>1.000000</td>\n",
       "      <td>0.578947</td>\n",
       "    </tr>\n",
       "  </tbody>\n",
       "</table>\n",
       "</div>"
      ],
      "text/plain": [
       "                 Model       AUC  Precision    Recall\n",
       "0                  KNN  0.968900   0.941176  0.842105\n",
       "1  Logistic Regression  0.918660   0.937500  0.789474\n",
       "2        Decision Tree  0.880383   1.000000  0.578947"
      ]
     },
     "execution_count": 292,
     "metadata": {},
     "output_type": "execute_result"
    }
   ],
   "source": [
    "val_metrics = pd.DataFrame({\n",
    "    'Model': ['KNN', 'Logistic Regression', 'Decision Tree'],\n",
    "    'AUC': [knn_val[2], lr_val[2], dt_val[2]],\n",
    "    'Precision': [knn_val[3], lr_val[3], dt_val[3]],\n",
    "    'Recall': [knn_val[4], lr_val[4], dt_val[4]],\n",
    "})\n",
    "\n",
    "val_metrics"
   ]
  },
  {
   "cell_type": "markdown",
   "metadata": {},
   "source": [
    "Compare these values to the cross-validated estimates you reported in Part One and Part Two. Did our measure of model success turn out to be approximately correct for the validation data?<br>\n",
    "\n",
    "Our model predictions were successful for the validation dataset, providing reliable metrics."
   ]
  },
  {
   "cell_type": "markdown",
   "metadata": {},
   "source": [
    "# Part Five: Cohen’s Kappa"
   ]
  },
  {
   "cell_type": "code",
   "execution_count": 286,
   "metadata": {},
   "outputs": [
    {
     "data": {
      "text/html": [
       "<div>\n",
       "<style scoped>\n",
       "    .dataframe tbody tr th:only-of-type {\n",
       "        vertical-align: middle;\n",
       "    }\n",
       "\n",
       "    .dataframe tbody tr th {\n",
       "        vertical-align: top;\n",
       "    }\n",
       "\n",
       "    .dataframe thead th {\n",
       "        text-align: right;\n",
       "    }\n",
       "</style>\n",
       "<table border=\"1\" class=\"dataframe\">\n",
       "  <thead>\n",
       "    <tr style=\"text-align: right;\">\n",
       "      <th></th>\n",
       "      <th>Model</th>\n",
       "      <th>Cohen's Kappa score</th>\n",
       "    </tr>\n",
       "  </thead>\n",
       "  <tbody>\n",
       "    <tr>\n",
       "      <th>0</th>\n",
       "      <td>KNN</td>\n",
       "      <td>0.528675</td>\n",
       "    </tr>\n",
       "    <tr>\n",
       "      <th>1</th>\n",
       "      <td>Logistic Regression</td>\n",
       "      <td>0.564644</td>\n",
       "    </tr>\n",
       "    <tr>\n",
       "      <th>2</th>\n",
       "      <td>Decision Tree</td>\n",
       "      <td>0.599072</td>\n",
       "    </tr>\n",
       "  </tbody>\n",
       "</table>\n",
       "</div>"
      ],
      "text/plain": [
       "                 Model  Cohen's Kappa score\n",
       "0                  KNN             0.528675\n",
       "1  Logistic Regression             0.564644\n",
       "2        Decision Tree             0.599072"
      ]
     },
     "execution_count": 286,
     "metadata": {},
     "output_type": "execute_result"
    }
   ],
   "source": [
    "val_metrics = pd.DataFrame({\n",
    "    'Model': ['KNN', 'Logistic Regression', 'Decision Tree'],\n",
    "    \"Cohen's Kappa score\": [best_knn[5], best_lr[5], best_dt[5]]\n",
    "})\n",
    "val_metrics"
   ]
  },
  {
   "cell_type": "markdown",
   "metadata": {},
   "source": [
    "Calculate it for the models from Part One, Q1-3, and discuss reasons or scenarios that would make us prefer to use this metric as our measure of model success. Do your conclusions from above change if you judge your models using Cohen’s Kappa instead? Does this make sense?"
   ]
  },
  {
   "cell_type": "markdown",
   "metadata": {},
   "source": [
    "Cohan's Kappa scores doesn't make sense here. As we are comapiring two raters in which one is our dataset (assuming it is 100% correct). The marginal probabilitess doesn't make sense as the given data will be correct everytime while comparing to the model's prediction.<br>\n",
    "But it would make sense we are comaparing two models or models Vs doctors."
   ]
  }
 ],
 "metadata": {
  "kernelspec": {
   "display_name": "Python 3",
   "language": "python",
   "name": "python3"
  },
  "language_info": {
   "codemirror_mode": {
    "name": "ipython",
    "version": 3
   },
   "file_extension": ".py",
   "mimetype": "text/x-python",
   "name": "python",
   "nbconvert_exporter": "python",
   "pygments_lexer": "ipython3",
   "version": "3.11.4"
  }
 },
 "nbformat": 4,
 "nbformat_minor": 2
}
