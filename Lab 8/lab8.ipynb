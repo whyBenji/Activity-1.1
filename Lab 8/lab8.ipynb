{
 "cells": [
  {
   "cell_type": "raw",
   "metadata": {
    "vscode": {
     "languageId": "raw"
    }
   },
   "source": [
    "--- \n",
    "title : \"Lab 8\"\n",
    "author: Jatin Puri\n",
    "format:\n",
    "    html:\n",
    "        theme: cosmo\n",
    "        toc: true\n",
    "        embed-resources: true\n",
    "---"
   ]
  },
  {
   "cell_type": "code",
   "execution_count": 49,
   "metadata": {},
   "outputs": [],
   "source": [
    "import pandas as pd\n",
    "import numpy as np\n",
    "from sklearn.linear_model import LogisticRegression\n",
    "from sklearn.discriminant_analysis import LinearDiscriminantAnalysis, QuadraticDiscriminantAnalysis\n",
    "from sklearn.tree import DecisionTreeClassifier, plot_tree\n",
    "from sklearn.svm import SVC\n",
    "from sklearn.neighbors import KNeighborsClassifier\n",
    "from sklearn.model_selection import cross_val_score, train_test_split, GridSearchCV\n",
    "from sklearn.metrics import confusion_matrix, accuracy_score\n",
    "from sklearn.metrics import classification_report\n"
   ]
  },
  {
   "cell_type": "code",
   "execution_count": 50,
   "metadata": {},
   "outputs": [],
   "source": [
    "import warnings\n",
    "warnings.filterwarnings(\"ignore\")\n",
    "warnings.filterwarnings(\"ignore\", message=\"Variables are collinear\")"
   ]
  },
  {
   "cell_type": "code",
   "execution_count": 51,
   "metadata": {},
   "outputs": [],
   "source": [
    "df = pd.read_csv('/Users/benji/Documents/Machine Learning/Data/cannabis_full.csv')"
   ]
  },
  {
   "cell_type": "code",
   "execution_count": 52,
   "metadata": {},
   "outputs": [
    {
     "data": {
      "text/html": [
       "<div>\n",
       "<style scoped>\n",
       "    .dataframe tbody tr th:only-of-type {\n",
       "        vertical-align: middle;\n",
       "    }\n",
       "\n",
       "    .dataframe tbody tr th {\n",
       "        vertical-align: top;\n",
       "    }\n",
       "\n",
       "    .dataframe thead th {\n",
       "        text-align: right;\n",
       "    }\n",
       "</style>\n",
       "<table border=\"1\" class=\"dataframe\">\n",
       "  <thead>\n",
       "    <tr style=\"text-align: right;\">\n",
       "      <th></th>\n",
       "      <th>Strain</th>\n",
       "      <th>Type</th>\n",
       "      <th>Rating</th>\n",
       "      <th>Effects</th>\n",
       "      <th>Flavor</th>\n",
       "      <th>Creative</th>\n",
       "      <th>Energetic</th>\n",
       "      <th>Tingly</th>\n",
       "      <th>Euphoric</th>\n",
       "      <th>Relaxed</th>\n",
       "      <th>...</th>\n",
       "      <th>Ammonia</th>\n",
       "      <th>Minty</th>\n",
       "      <th>Tree</th>\n",
       "      <th>Fruit</th>\n",
       "      <th>Butter</th>\n",
       "      <th>Pineapple</th>\n",
       "      <th>Tar</th>\n",
       "      <th>Rose</th>\n",
       "      <th>Plum</th>\n",
       "      <th>Pear</th>\n",
       "    </tr>\n",
       "  </thead>\n",
       "  <tbody>\n",
       "    <tr>\n",
       "      <th>0</th>\n",
       "      <td>100-Og</td>\n",
       "      <td>hybrid</td>\n",
       "      <td>4.0</td>\n",
       "      <td>Creative,Energetic,Tingly,Euphoric,Relaxed</td>\n",
       "      <td>Earthy,Sweet,Citrus</td>\n",
       "      <td>1.0</td>\n",
       "      <td>1.0</td>\n",
       "      <td>1.0</td>\n",
       "      <td>1.0</td>\n",
       "      <td>1.0</td>\n",
       "      <td>...</td>\n",
       "      <td>0.0</td>\n",
       "      <td>0.0</td>\n",
       "      <td>0.0</td>\n",
       "      <td>0.0</td>\n",
       "      <td>0.0</td>\n",
       "      <td>0.0</td>\n",
       "      <td>0.0</td>\n",
       "      <td>0.0</td>\n",
       "      <td>0.0</td>\n",
       "      <td>0.0</td>\n",
       "    </tr>\n",
       "    <tr>\n",
       "      <th>1</th>\n",
       "      <td>98-White-Widow</td>\n",
       "      <td>hybrid</td>\n",
       "      <td>4.7</td>\n",
       "      <td>Relaxed,Aroused,Creative,Happy,Energetic</td>\n",
       "      <td>Flowery,Violet,Diesel</td>\n",
       "      <td>1.0</td>\n",
       "      <td>1.0</td>\n",
       "      <td>0.0</td>\n",
       "      <td>0.0</td>\n",
       "      <td>1.0</td>\n",
       "      <td>...</td>\n",
       "      <td>0.0</td>\n",
       "      <td>0.0</td>\n",
       "      <td>0.0</td>\n",
       "      <td>0.0</td>\n",
       "      <td>0.0</td>\n",
       "      <td>0.0</td>\n",
       "      <td>0.0</td>\n",
       "      <td>0.0</td>\n",
       "      <td>0.0</td>\n",
       "      <td>0.0</td>\n",
       "    </tr>\n",
       "    <tr>\n",
       "      <th>2</th>\n",
       "      <td>1024</td>\n",
       "      <td>sativa</td>\n",
       "      <td>4.4</td>\n",
       "      <td>Uplifted,Happy,Relaxed,Energetic,Creative</td>\n",
       "      <td>Spicy/Herbal,Sage,Woody</td>\n",
       "      <td>1.0</td>\n",
       "      <td>1.0</td>\n",
       "      <td>0.0</td>\n",
       "      <td>0.0</td>\n",
       "      <td>1.0</td>\n",
       "      <td>...</td>\n",
       "      <td>0.0</td>\n",
       "      <td>0.0</td>\n",
       "      <td>0.0</td>\n",
       "      <td>0.0</td>\n",
       "      <td>0.0</td>\n",
       "      <td>0.0</td>\n",
       "      <td>0.0</td>\n",
       "      <td>0.0</td>\n",
       "      <td>0.0</td>\n",
       "      <td>0.0</td>\n",
       "    </tr>\n",
       "    <tr>\n",
       "      <th>3</th>\n",
       "      <td>13-Dawgs</td>\n",
       "      <td>hybrid</td>\n",
       "      <td>4.2</td>\n",
       "      <td>Tingly,Creative,Hungry,Relaxed,Uplifted</td>\n",
       "      <td>Apricot,Citrus,Grapefruit</td>\n",
       "      <td>1.0</td>\n",
       "      <td>0.0</td>\n",
       "      <td>1.0</td>\n",
       "      <td>0.0</td>\n",
       "      <td>1.0</td>\n",
       "      <td>...</td>\n",
       "      <td>0.0</td>\n",
       "      <td>0.0</td>\n",
       "      <td>0.0</td>\n",
       "      <td>0.0</td>\n",
       "      <td>0.0</td>\n",
       "      <td>0.0</td>\n",
       "      <td>0.0</td>\n",
       "      <td>0.0</td>\n",
       "      <td>0.0</td>\n",
       "      <td>0.0</td>\n",
       "    </tr>\n",
       "    <tr>\n",
       "      <th>4</th>\n",
       "      <td>24K-Gold</td>\n",
       "      <td>hybrid</td>\n",
       "      <td>4.6</td>\n",
       "      <td>Happy,Relaxed,Euphoric,Uplifted,Talkative</td>\n",
       "      <td>Citrus,Earthy,Orange</td>\n",
       "      <td>0.0</td>\n",
       "      <td>0.0</td>\n",
       "      <td>0.0</td>\n",
       "      <td>1.0</td>\n",
       "      <td>1.0</td>\n",
       "      <td>...</td>\n",
       "      <td>0.0</td>\n",
       "      <td>0.0</td>\n",
       "      <td>0.0</td>\n",
       "      <td>0.0</td>\n",
       "      <td>0.0</td>\n",
       "      <td>0.0</td>\n",
       "      <td>0.0</td>\n",
       "      <td>0.0</td>\n",
       "      <td>0.0</td>\n",
       "      <td>0.0</td>\n",
       "    </tr>\n",
       "  </tbody>\n",
       "</table>\n",
       "<p>5 rows × 69 columns</p>\n",
       "</div>"
      ],
      "text/plain": [
       "           Strain    Type  Rating                                     Effects  \\\n",
       "0          100-Og  hybrid     4.0  Creative,Energetic,Tingly,Euphoric,Relaxed   \n",
       "1  98-White-Widow  hybrid     4.7    Relaxed,Aroused,Creative,Happy,Energetic   \n",
       "2            1024  sativa     4.4   Uplifted,Happy,Relaxed,Energetic,Creative   \n",
       "3        13-Dawgs  hybrid     4.2     Tingly,Creative,Hungry,Relaxed,Uplifted   \n",
       "4        24K-Gold  hybrid     4.6   Happy,Relaxed,Euphoric,Uplifted,Talkative   \n",
       "\n",
       "                      Flavor  Creative  Energetic  Tingly  Euphoric  Relaxed  \\\n",
       "0        Earthy,Sweet,Citrus       1.0        1.0     1.0       1.0      1.0   \n",
       "1      Flowery,Violet,Diesel       1.0        1.0     0.0       0.0      1.0   \n",
       "2    Spicy/Herbal,Sage,Woody       1.0        1.0     0.0       0.0      1.0   \n",
       "3  Apricot,Citrus,Grapefruit       1.0        0.0     1.0       0.0      1.0   \n",
       "4       Citrus,Earthy,Orange       0.0        0.0     0.0       1.0      1.0   \n",
       "\n",
       "   ...  Ammonia  Minty  Tree  Fruit  Butter  Pineapple  Tar  Rose  Plum  Pear  \n",
       "0  ...      0.0    0.0   0.0    0.0     0.0        0.0  0.0   0.0   0.0   0.0  \n",
       "1  ...      0.0    0.0   0.0    0.0     0.0        0.0  0.0   0.0   0.0   0.0  \n",
       "2  ...      0.0    0.0   0.0    0.0     0.0        0.0  0.0   0.0   0.0   0.0  \n",
       "3  ...      0.0    0.0   0.0    0.0     0.0        0.0  0.0   0.0   0.0   0.0  \n",
       "4  ...      0.0    0.0   0.0    0.0     0.0        0.0  0.0   0.0   0.0   0.0  \n",
       "\n",
       "[5 rows x 69 columns]"
      ]
     },
     "execution_count": 52,
     "metadata": {},
     "output_type": "execute_result"
    }
   ],
   "source": [
    "df.head()"
   ]
  },
  {
   "cell_type": "code",
   "execution_count": 53,
   "metadata": {},
   "outputs": [
    {
     "data": {
      "text/plain": [
       "Index(['Strain', 'Type', 'Rating', 'Effects', 'Flavor', 'Creative',\n",
       "       'Energetic', 'Tingly', 'Euphoric', 'Relaxed', 'Aroused', 'Happy',\n",
       "       'Uplifted', 'Hungry', 'Talkative', 'Giggly', 'Focused', 'Sleepy', 'Dry',\n",
       "       'Mouth', 'Earthy', 'Sweet', 'Citrus', 'Flowery', 'Violet', 'Diesel',\n",
       "       'Spicy/Herbal', 'Sage', 'Woody', 'Apricot', 'Grapefruit', 'Orange',\n",
       "       'Pungent', 'Grape', 'Pine', 'Skunk', 'Berry', 'Pepper', 'Menthol',\n",
       "       'Blue', 'Cheese', 'Chemical', 'Mango', 'Lemon', 'Peach', 'Vanilla',\n",
       "       'Nutty', 'Chestnut', 'Tea', 'Tobacco', 'Tropical', 'Strawberry',\n",
       "       'Blueberry', 'Mint', 'Apple', 'Honey', 'Lavender', 'Lime', 'Coffee',\n",
       "       'Ammonia', 'Minty', 'Tree', 'Fruit', 'Butter', 'Pineapple', 'Tar',\n",
       "       'Rose', 'Plum', 'Pear'],\n",
       "      dtype='object')"
      ]
     },
     "execution_count": 53,
     "metadata": {},
     "output_type": "execute_result"
    }
   ],
   "source": [
    "df.columns"
   ]
  },
  {
   "cell_type": "code",
   "execution_count": 54,
   "metadata": {},
   "outputs": [
    {
     "name": "stdout",
     "output_type": "stream",
     "text": [
      "<class 'pandas.core.frame.DataFrame'>\n",
      "RangeIndex: 2351 entries, 0 to 2350\n",
      "Data columns (total 69 columns):\n",
      " #   Column        Non-Null Count  Dtype  \n",
      "---  ------        --------------  -----  \n",
      " 0   Strain        2351 non-null   object \n",
      " 1   Type          2351 non-null   object \n",
      " 2   Rating        2351 non-null   float64\n",
      " 3   Effects       2264 non-null   object \n",
      " 4   Flavor        2195 non-null   object \n",
      " 5   Creative      2321 non-null   float64\n",
      " 6   Energetic     2320 non-null   float64\n",
      " 7   Tingly        2313 non-null   float64\n",
      " 8   Euphoric      2331 non-null   float64\n",
      " 9   Relaxed       2318 non-null   float64\n",
      " 10  Aroused       2306 non-null   float64\n",
      " 11  Happy         2326 non-null   float64\n",
      " 12  Uplifted      2330 non-null   float64\n",
      " 13  Hungry        2318 non-null   float64\n",
      " 14  Talkative     2311 non-null   float64\n",
      " 15  Giggly        2311 non-null   float64\n",
      " 16  Focused       2312 non-null   float64\n",
      " 17  Sleepy        2318 non-null   float64\n",
      " 18  Dry           2305 non-null   float64\n",
      " 19  Mouth         2305 non-null   float64\n",
      " 20  Earthy        2305 non-null   float64\n",
      " 21  Sweet         2305 non-null   float64\n",
      " 22  Citrus        2305 non-null   float64\n",
      " 23  Flowery       2305 non-null   float64\n",
      " 24  Violet        2305 non-null   float64\n",
      " 25  Diesel        2305 non-null   float64\n",
      " 26  Spicy/Herbal  2305 non-null   float64\n",
      " 27  Sage          2305 non-null   float64\n",
      " 28  Woody         2305 non-null   float64\n",
      " 29  Apricot       2305 non-null   float64\n",
      " 30  Grapefruit    2305 non-null   float64\n",
      " 31  Orange        2305 non-null   float64\n",
      " 32  Pungent       2305 non-null   float64\n",
      " 33  Grape         2305 non-null   float64\n",
      " 34  Pine          2305 non-null   float64\n",
      " 35  Skunk         2305 non-null   float64\n",
      " 36  Berry         2305 non-null   float64\n",
      " 37  Pepper        2305 non-null   float64\n",
      " 38  Menthol       2305 non-null   float64\n",
      " 39  Blue          2305 non-null   float64\n",
      " 40  Cheese        2305 non-null   float64\n",
      " 41  Chemical      2305 non-null   float64\n",
      " 42  Mango         2305 non-null   float64\n",
      " 43  Lemon         2305 non-null   float64\n",
      " 44  Peach         2305 non-null   float64\n",
      " 45  Vanilla       2305 non-null   float64\n",
      " 46  Nutty         2305 non-null   float64\n",
      " 47  Chestnut      2305 non-null   float64\n",
      " 48  Tea           2305 non-null   float64\n",
      " 49  Tobacco       2305 non-null   float64\n",
      " 50  Tropical      2305 non-null   float64\n",
      " 51  Strawberry    2305 non-null   float64\n",
      " 52  Blueberry     2305 non-null   float64\n",
      " 53  Mint          2305 non-null   float64\n",
      " 54  Apple         2305 non-null   float64\n",
      " 55  Honey         2305 non-null   float64\n",
      " 56  Lavender      2305 non-null   float64\n",
      " 57  Lime          2305 non-null   float64\n",
      " 58  Coffee        2305 non-null   float64\n",
      " 59  Ammonia       2305 non-null   float64\n",
      " 60  Minty         2305 non-null   float64\n",
      " 61  Tree          2305 non-null   float64\n",
      " 62  Fruit         2305 non-null   float64\n",
      " 63  Butter        2305 non-null   float64\n",
      " 64  Pineapple     2305 non-null   float64\n",
      " 65  Tar           2305 non-null   float64\n",
      " 66  Rose          2305 non-null   float64\n",
      " 67  Plum          2305 non-null   float64\n",
      " 68  Pear          2305 non-null   float64\n",
      "dtypes: float64(65), object(4)\n",
      "memory usage: 1.2+ MB\n"
     ]
    }
   ],
   "source": [
    "df.info()"
   ]
  },
  {
   "cell_type": "code",
   "execution_count": 55,
   "metadata": {},
   "outputs": [
    {
     "name": "stdout",
     "output_type": "stream",
     "text": [
      "<class 'pandas.core.frame.DataFrame'>\n",
      "Index: 2191 entries, 0 to 2350\n",
      "Data columns (total 69 columns):\n",
      " #   Column        Non-Null Count  Dtype  \n",
      "---  ------        --------------  -----  \n",
      " 0   Strain        2191 non-null   object \n",
      " 1   Type          2191 non-null   object \n",
      " 2   Rating        2191 non-null   float64\n",
      " 3   Effects       2191 non-null   object \n",
      " 4   Flavor        2191 non-null   object \n",
      " 5   Creative      2191 non-null   float64\n",
      " 6   Energetic     2191 non-null   float64\n",
      " 7   Tingly        2191 non-null   float64\n",
      " 8   Euphoric      2191 non-null   float64\n",
      " 9   Relaxed       2191 non-null   float64\n",
      " 10  Aroused       2191 non-null   float64\n",
      " 11  Happy         2191 non-null   float64\n",
      " 12  Uplifted      2191 non-null   float64\n",
      " 13  Hungry        2191 non-null   float64\n",
      " 14  Talkative     2191 non-null   float64\n",
      " 15  Giggly        2191 non-null   float64\n",
      " 16  Focused       2191 non-null   float64\n",
      " 17  Sleepy        2191 non-null   float64\n",
      " 18  Dry           2191 non-null   float64\n",
      " 19  Mouth         2191 non-null   float64\n",
      " 20  Earthy        2191 non-null   float64\n",
      " 21  Sweet         2191 non-null   float64\n",
      " 22  Citrus        2191 non-null   float64\n",
      " 23  Flowery       2191 non-null   float64\n",
      " 24  Violet        2191 non-null   float64\n",
      " 25  Diesel        2191 non-null   float64\n",
      " 26  Spicy/Herbal  2191 non-null   float64\n",
      " 27  Sage          2191 non-null   float64\n",
      " 28  Woody         2191 non-null   float64\n",
      " 29  Apricot       2191 non-null   float64\n",
      " 30  Grapefruit    2191 non-null   float64\n",
      " 31  Orange        2191 non-null   float64\n",
      " 32  Pungent       2191 non-null   float64\n",
      " 33  Grape         2191 non-null   float64\n",
      " 34  Pine          2191 non-null   float64\n",
      " 35  Skunk         2191 non-null   float64\n",
      " 36  Berry         2191 non-null   float64\n",
      " 37  Pepper        2191 non-null   float64\n",
      " 38  Menthol       2191 non-null   float64\n",
      " 39  Blue          2191 non-null   float64\n",
      " 40  Cheese        2191 non-null   float64\n",
      " 41  Chemical      2191 non-null   float64\n",
      " 42  Mango         2191 non-null   float64\n",
      " 43  Lemon         2191 non-null   float64\n",
      " 44  Peach         2191 non-null   float64\n",
      " 45  Vanilla       2191 non-null   float64\n",
      " 46  Nutty         2191 non-null   float64\n",
      " 47  Chestnut      2191 non-null   float64\n",
      " 48  Tea           2191 non-null   float64\n",
      " 49  Tobacco       2191 non-null   float64\n",
      " 50  Tropical      2191 non-null   float64\n",
      " 51  Strawberry    2191 non-null   float64\n",
      " 52  Blueberry     2191 non-null   float64\n",
      " 53  Mint          2191 non-null   float64\n",
      " 54  Apple         2191 non-null   float64\n",
      " 55  Honey         2191 non-null   float64\n",
      " 56  Lavender      2191 non-null   float64\n",
      " 57  Lime          2191 non-null   float64\n",
      " 58  Coffee        2191 non-null   float64\n",
      " 59  Ammonia       2191 non-null   float64\n",
      " 60  Minty         2191 non-null   float64\n",
      " 61  Tree          2191 non-null   float64\n",
      " 62  Fruit         2191 non-null   float64\n",
      " 63  Butter        2191 non-null   float64\n",
      " 64  Pineapple     2191 non-null   float64\n",
      " 65  Tar           2191 non-null   float64\n",
      " 66  Rose          2191 non-null   float64\n",
      " 67  Plum          2191 non-null   float64\n",
      " 68  Pear          2191 non-null   float64\n",
      "dtypes: float64(65), object(4)\n",
      "memory usage: 1.2+ MB\n"
     ]
    }
   ],
   "source": [
    "df = df.dropna()\n",
    "df.info()"
   ]
  },
  {
   "cell_type": "code",
   "execution_count": 56,
   "metadata": {},
   "outputs": [
    {
     "data": {
      "text/plain": [
       "array(['hybrid', 'sativa', 'indica'], dtype=object)"
      ]
     },
     "execution_count": 56,
     "metadata": {},
     "output_type": "execute_result"
    }
   ],
   "source": [
    "df['Type'].unique()"
   ]
  },
  {
   "cell_type": "markdown",
   "metadata": {},
   "source": [
    "# Part One: Binary Classification"
   ]
  },
  {
   "cell_type": "code",
   "execution_count": 57,
   "metadata": {},
   "outputs": [],
   "source": [
    "dfb = df[(df['Type'] == 'sativa') | (df['Type'] == 'indica')]"
   ]
  },
  {
   "cell_type": "code",
   "execution_count": 58,
   "metadata": {},
   "outputs": [],
   "source": [
    "X = dfb.drop(columns=['Type', 'Effects', 'Flavor','Strain'])\n",
    "y = dfb['Type']"
   ]
  },
  {
   "cell_type": "markdown",
   "metadata": {},
   "source": [
    "### Q1: LDA"
   ]
  },
  {
   "cell_type": "code",
   "execution_count": 59,
   "metadata": {},
   "outputs": [
    {
     "name": "stdout",
     "output_type": "stream",
     "text": [
      "Best Cross-validated Accuracy: 0.871\n",
      "Confusion Matrix:\n",
      " [[603  56]\n",
      " [ 69 340]]\n"
     ]
    }
   ],
   "source": [
    "lda = LinearDiscriminantAnalysis()\n",
    "\n",
    "param_grid = {\n",
    "    'solver': ['svd', 'lsqr', 'eigen'],  # Solvers for LDA\n",
    "    'shrinkage': [None, 'auto', 0.1, 0.5, 0.9],  # Applicable to 'lsqr' and 'eigen' solvers\n",
    "}\n",
    "\n",
    "grid_search = GridSearchCV(lda,param_grid,cv=5,scoring='accuracy')\n",
    "\n",
    "grid_search.fit(X, y)\n",
    "\n",
    "# Get the best parameters and best score\n",
    "print(f\"Best Cross-validated Accuracy: {grid_search.best_score_:.3f}\")\n",
    "\n",
    "# Train the model with the best parameters\n",
    "best_lda = grid_search.best_estimator_\n",
    "best_lda.fit(X, y)\n",
    "\n",
    "# Predict and evaluate\n",
    "y_pred = best_lda.predict(X)\n",
    "conf_matrix = confusion_matrix(y, y_pred)\n",
    "print(\"Confusion Matrix:\\n\", conf_matrix)\n"
   ]
  },
  {
   "cell_type": "markdown",
   "metadata": {
    "vscode": {
     "languageId": "raw"
    }
   },
   "source": [
    "### Q2: QDA"
   ]
  },
  {
   "cell_type": "code",
   "execution_count": 60,
   "metadata": {},
   "outputs": [
    {
     "name": "stdout",
     "output_type": "stream",
     "text": [
      "Best Parameters: {'reg_param': 0.1, 'tol': 0.0001}\n",
      "Best Cross-validated Accuracy: 0.866\n",
      "Confusion Matrix:\n",
      " [[609  50]\n",
      " [ 59 350]]\n"
     ]
    }
   ],
   "source": [
    "qda = QuadraticDiscriminantAnalysis()\n",
    "param_grid = {\n",
    "    'reg_param': [0.0, 0.1, 0.2, 0.5, 0.7, 1.0],  # Regularization parameters\n",
    "    'tol': [1e-4, 1e-3, 1e-2, 1e-1],  # Tolerance for convergence\n",
    "}\n",
    "\n",
    "grid_search = GridSearchCV(qda, param_grid, cv=5, scoring='accuracy')  \n",
    "\n",
    "grid_search.fit(X, y)\n",
    "\n",
    "print(f\"Best Parameters: {grid_search.best_params_}\")\n",
    "print(f\"Best Cross-validated Accuracy: {grid_search.best_score_:.3f}\")\n",
    "\n",
    "best_qda = grid_search.best_estimator_\n",
    "best_qda.fit(X, y)\n",
    "\n",
    "y_pred = best_qda.predict(X)\n",
    "conf_matrix = confusion_matrix(y, y_pred)\n",
    "print(\"Confusion Matrix:\\n\", conf_matrix)"
   ]
  },
  {
   "cell_type": "markdown",
   "metadata": {},
   "source": [
    "### Q3: SVC"
   ]
  },
  {
   "cell_type": "code",
   "execution_count": 61,
   "metadata": {},
   "outputs": [
    {
     "name": "stdout",
     "output_type": "stream",
     "text": [
      "Best SVC Parameters: {'C': 10, 'gamma': 'auto', 'kernel': 'rbf'}\n",
      "Cross-validated F1-score: 0.860\n",
      "Confusion Matrix:\n",
      " [[610  49]\n",
      " [ 58 351]]\n"
     ]
    }
   ],
   "source": [
    "# Grid search for hyperparameter tuning\n",
    "svc = SVC()\n",
    "param_grid = {'C': [0.1, 1, 10], 'kernel': ['linear', 'rbf'], 'gamma': ['scale', 'auto']}\n",
    "grid = GridSearchCV(svc, param_grid, cv=5, scoring='f1_macro')\n",
    "grid.fit(X,y)\n",
    "\n",
    "best_svc = grid.best_estimator_\n",
    "print(f\"Best SVC Parameters: {grid.best_params_}\")\n",
    "\n",
    "cv_scores = cross_val_score(best_svc, X,y, cv=5, scoring='f1_macro')\n",
    "print(f\"Cross-validated F1-score: {cv_scores.mean():.3f}\")\n",
    "\n",
    "best_svc.fit(X,y)\n",
    "y_pred = best_svc.predict(X)\n",
    "\n",
    "conf_matrix = confusion_matrix(y, y_pred)\n",
    "print(\"Confusion Matrix:\\n\", conf_matrix)\n"
   ]
  },
  {
   "cell_type": "markdown",
   "metadata": {},
   "source": [
    "### Q4: SVM"
   ]
  },
  {
   "cell_type": "code",
   "execution_count": 62,
   "metadata": {},
   "outputs": [
    {
     "name": "stdout",
     "output_type": "stream",
     "text": [
      "Best SVM Parameters: {'C': 10, 'degree': 3, 'gamma': 'auto'}\n",
      "Cross-validated accuracy: 0.868\n",
      "Confusion Matrix:\n",
      " [[617  42]\n",
      " [ 74 335]]\n"
     ]
    }
   ],
   "source": [
    "# Grid search for polynomial kernel SVM\n",
    "param_grid = {'C': [0.1, 1, 10], 'degree': [2, 3, 4], 'gamma': ['scale', 'auto']}\n",
    "poly_svm = GridSearchCV(SVC(kernel='poly'), param_grid, cv=5, scoring='accuracy')\n",
    "poly_svm.fit(X,y)\n",
    "\n",
    "# Best model\n",
    "best_poly_svm = poly_svm.best_estimator_\n",
    "print(f\"Best SVM Parameters: {poly_svm.best_params_}\")\n",
    "\n",
    "# Cross-validate\n",
    "cv_scores = cross_val_score(best_poly_svm, X,y, cv=5, scoring='accuracy')\n",
    "print(f\"Cross-validated accuracy: {cv_scores.mean():.3f}\")\n",
    "\n",
    "# Fit and predict\n",
    "best_poly_svm.fit(X,y)\n",
    "y_pred = best_poly_svm.predict(X)\n",
    "\n",
    "# Confusion matrix\n",
    "conf_matrix = confusion_matrix(y, y_pred)\n",
    "print(\"Confusion Matrix:\\n\", conf_matrix)\n"
   ]
  },
  {
   "cell_type": "markdown",
   "metadata": {},
   "source": [
    "# Part Two: Natural Multiclass"
   ]
  },
  {
   "cell_type": "code",
   "execution_count": 63,
   "metadata": {},
   "outputs": [],
   "source": [
    "X_new = df.drop(columns=['Type', 'Effects', 'Flavor','Strain'])\n",
    "y_new = df['Type']"
   ]
  },
  {
   "cell_type": "markdown",
   "metadata": {},
   "source": [
    "**Q1. Fit a decision tree, plot the final fit, and interpret the results.**"
   ]
  },
  {
   "cell_type": "code",
   "execution_count": 64,
   "metadata": {},
   "outputs": [
    {
     "name": "stdout",
     "output_type": "stream",
     "text": [
      "Best Parameters: {'max_depth': 3, 'min_samples_leaf': 1, 'min_samples_split': 2}\n",
      "Cross-Validation Accuracy (Decision Tree): 0.6198084064030954\n"
     ]
    }
   ],
   "source": [
    "dt_pipeline = DecisionTreeClassifier(random_state=42)\n",
    "\n",
    "# Hyperparameter Grid\n",
    "param_grid = {\n",
    "    'max_depth': [3, 5, 10],             # Tree depth\n",
    "    'min_samples_split': [2, 5, 10],     # Minimum samples required to split an internal node\n",
    "    'min_samples_leaf': [1, 2, 4]        # Minimum samples required to be a leaf node\n",
    "}\n",
    "\n",
    "# Perform Grid Search with Cross-Validation\n",
    "grid_search = GridSearchCV(\n",
    "    dt_pipeline, param_grid, cv=5, scoring='accuracy')\n",
    "grid_search.fit(X_new, y_new)\n",
    "\n",
    "# Best Model and Cross-Validated Accuracy\n",
    "best_dt = grid_search.best_estimator_\n",
    "cv_accuracy = grid_search.best_score_\n",
    "\n",
    "print(\"Best Parameters:\", grid_search.best_params_)\n",
    "print(\"Cross-Validation Accuracy (Decision Tree):\", cv_accuracy)\n",
    "\n",
    "# Fit the best model on the full training data\n",
    "best_dt.fit(X_new, y_new)\n",
    "\n",
    "# Predictions and Evaluation on Test Data\n",
    "y_pred_dt_full = best_dt.predict(X_new)\n",
    "dt_test_accuracy = accuracy_score(y_new, y_pred_dt_full)\n",
    "conf_matrix_dt = confusion_matrix(y_new, y_pred_dt_full)\n"
   ]
  },
  {
   "cell_type": "code",
   "execution_count": 65,
   "metadata": {},
   "outputs": [
    {
     "data": {
      "image/png": "[encoded data removed]",
      "text/plain": [
       "<Figure size 1200x800 with 1 Axes>"
      ]
     },
     "metadata": {},
     "output_type": "display_data"
    }
   ],
   "source": [
    "import matplotlib.pyplot as plt\n",
    "plt.figure(figsize=(12, 8))\n",
    "# Get column names from original DataFrame (X_full) before scaling\n",
    "\n",
    "plot_tree(best_dt,feature_names= X_new.columns,  class_names=best_dt.classes_,filled=True,rounded=True)\n",
    "plt.title(\"Decision Tree Visualization\")\n",
    "plt.show()\n"
   ]
  },
  {
   "cell_type": "markdown",
   "metadata": {},
   "source": [
    "We can the first split is in the sleepy predictor, which implies it holds the most predictive power, then it is between energetic and citru, those hold the next most importance in predicting the final results."
   ]
  },
  {
   "cell_type": "markdown",
   "metadata": {},
   "source": [
    "**Q2 Repeat the analyses from Part One for LDA, QDA, and KNN.**"
   ]
  },
  {
   "cell_type": "code",
   "execution_count": 66,
   "metadata": {},
   "outputs": [
    {
     "name": "stdout",
     "output_type": "stream",
     "text": [
      "Best Cross-validated Accuracy: 0.629\n",
      "Confusion Matrix:\n",
      " [[759 214 150]\n",
      " [192 457  10]\n",
      " [203  19 187]]\n"
     ]
    }
   ],
   "source": [
    "lda = LinearDiscriminantAnalysis()\n",
    "\n",
    "param_grid = {\n",
    "    'solver': ['svd', 'lsqr', 'eigen'],  # Solvers for LDA\n",
    "    'shrinkage': [None, 'auto', 0.1, 0.5, 0.9],  # Applicable to 'lsqr' and 'eigen' solvers\n",
    "}\n",
    "\n",
    "grid_search = GridSearchCV(lda,param_grid,cv=5,scoring='accuracy')\n",
    "\n",
    "grid_search.fit(X_new, y_new)\n",
    "\n",
    "# Get the best parameters and best score\n",
    "print(f\"Best Cross-validated Accuracy: {grid_search.best_score_:.3f}\")\n",
    "\n",
    "# Train the model with the best parameters\n",
    "best_lda = grid_search.best_estimator_\n",
    "best_lda.fit(X_new, y_new)\n",
    "\n",
    "# Predict and evaluate\n",
    "y_pred = best_lda.predict(X_new)\n",
    "conf_matrix = confusion_matrix(y_new, y_pred)\n",
    "print(\"Confusion Matrix:\\n\", conf_matrix)"
   ]
  },
  {
   "cell_type": "code",
   "execution_count": 67,
   "metadata": {},
   "outputs": [
    {
     "name": "stdout",
     "output_type": "stream",
     "text": [
      "Best SVC Parameters: {'C': 10, 'gamma': 'auto', 'kernel': 'rbf'}\n",
      "Cross-validated accuracy: 0.627\n",
      "Confusion Matrix:\n",
      " [[840 227  56]\n",
      " [202 454   3]\n",
      " [260  20 129]]\n"
     ]
    }
   ],
   "source": [
    "# Grid search for hyperparameter tuning\n",
    "svc = SVC()\n",
    "param_grid = {'C': [0.1, 1, 10], 'kernel': ['linear', 'rbf'], 'gamma': ['scale', 'auto']}\n",
    "grid = GridSearchCV(svc, param_grid, cv=5, scoring='accuracy')\n",
    "grid.fit(X_new, y_new)\n",
    "\n",
    "best_svc = grid.best_estimator_\n",
    "print(f\"Best SVC Parameters: {grid.best_params_}\")\n",
    "\n",
    "cv_scores = cross_val_score(best_svc, X_new, y_new, cv=5, scoring='accuracy')\n",
    "print(f\"Cross-validated accuracy: {cv_scores.mean():.3f}\")\n",
    "\n",
    "best_svc.fit(X_new, y_new)\n",
    "y_pred = best_svc.predict(X_new)\n",
    "\n",
    "conf_matrix = confusion_matrix(y_new, y_pred)\n",
    "print(\"Confusion Matrix:\\n\", conf_matrix)\n"
   ]
  },
  {
   "cell_type": "code",
   "execution_count": 68,
   "metadata": {},
   "outputs": [
    {
     "name": "stdout",
     "output_type": "stream",
     "text": [
      "Best KNN Parameters: {'n_neighbors': 7, 'weights': 'uniform'}\n",
      "KNN Accuracy: 0.677\n",
      "KNN Confusion Matrix:\n",
      " [[895 160  68]\n",
      " [227 427   5]\n",
      " [224  23 162]]\n"
     ]
    }
   ],
   "source": [
    "knn = KNeighborsClassifier()\n",
    "param_grid_knn = {'n_neighbors': [3, 5, 7, 9], 'weights': ['uniform', 'distance']}\n",
    "grid_knn = GridSearchCV(knn, param_grid_knn, cv=5, scoring='accuracy')\n",
    "grid_knn.fit(X_new, y_new)\n",
    "\n",
    "best_knn = grid_knn.best_estimator_\n",
    "print(f\"Best KNN Parameters: {grid_knn.best_params_}\")\n",
    "\n",
    "# Evaluate\n",
    "y_pred_knn = best_knn.predict(X_new)\n",
    "accuracy_knn = accuracy_score(y_new, y_pred_knn)\n",
    "conf_matrix_knn = confusion_matrix(y_new, y_pred_knn)\n",
    "\n",
    "print(f\"KNN Accuracy: {accuracy_knn:.3f}\")\n",
    "print(\"KNN Confusion Matrix:\\n\", conf_matrix_knn)\n"
   ]
  },
  {
   "cell_type": "code",
   "execution_count": 69,
   "metadata": {},
   "outputs": [
    {
     "name": "stdout",
     "output_type": "stream",
     "text": [
      "Confusion Matrix with Labels:\n",
      "        Sativa  Indica  Hybrid\n",
      "Sativa     895     160      68\n",
      "Indica     227     427       5\n",
      "Hybrid     224      23     162\n"
     ]
    }
   ],
   "source": [
    "import pandas as pd\n",
    "# Confusion matrix with labels\n",
    "labels = ['Sativa', 'Indica', 'Hybrid']  # Update with your class names\n",
    "conf_matrix_knn = pd.DataFrame(conf_matrix_knn, index=labels, columns=labels)\n",
    "\n",
    "print(\"Confusion Matrix with Labels:\")\n",
    "print(conf_matrix_knn)\n"
   ]
  },
  {
   "cell_type": "markdown",
   "metadata": {},
   "source": [
    "**Q3. Were your metrics better or worse than in Part One? Why? Which categories were most likely to get mixed up, according to the confusion matrices? Why?**"
   ]
  },
  {
   "cell_type": "markdown",
   "metadata": {},
   "source": [
    "The accuracy decressed and it make sense as it the overall performance metric, The hybrid is most likely to got misclasified, it makes sense as it consist of many similar qualities of the other types."
   ]
  },
  {
   "cell_type": "markdown",
   "metadata": {},
   "source": [
    "# Part Three: Multiclass from Binary"
   ]
  },
  {
   "cell_type": "markdown",
   "metadata": {},
   "source": [
    "**Consider two models designed for binary classification: SVC and Logistic Regression.**"
   ]
  },
  {
   "cell_type": "code",
   "execution_count": 70,
   "metadata": {},
   "outputs": [],
   "source": [
    "df[\"is_indica\"] = (df[\"Type\"] == \"indica\").astype(int)\n",
    "df[\"is_sativa\"] = (df[\"Type\"] == \"sativa\").astype(int)\n",
    "df[\"is_hybrid\"] = (df[\"Type\"] == \"hybrid\").astype(int)"
   ]
  },
  {
   "cell_type": "markdown",
   "metadata": {},
   "source": [
    "**Q1 Fit and report metrics for OvR versions of the models. That is, for each of the two model types, create three models:**"
   ]
  },
  {
   "cell_type": "markdown",
   "metadata": {},
   "source": [
    "**Indica vs. Not Indica**"
   ]
  },
  {
   "cell_type": "code",
   "execution_count": 71,
   "metadata": {},
   "outputs": [
    {
     "name": "stdout",
     "output_type": "stream",
     "text": [
      "Metrics for Logistic Regression: Indica vs. Not Indica\n",
      "              precision    recall  f1-score   support\n",
      "\n",
      "           0       0.82      0.87      0.84       301\n",
      "           1       0.67      0.58      0.62       138\n",
      "\n",
      "    accuracy                           0.78       439\n",
      "   macro avg       0.75      0.73      0.73       439\n",
      "weighted avg       0.77      0.78      0.77       439\n",
      "\n"
     ]
    }
   ],
   "source": [
    "X = df.drop(columns = [\"is_indica\",\"is_sativa\",\"is_hybrid\",\"Type\",\"Strain\", \"Effects\", \"Flavor\"])\n",
    "y = df[\"is_indica\"]\n",
    "\n",
    "\n",
    "X_train, X_test, y_train, y_test = train_test_split(X, y, test_size=0.2, random_state=42)\n",
    "\n",
    "lr = LogisticRegression(random_state=42)\n",
    "lr.fit(X_train, y_train)\n",
    "\n",
    "#evaluate\n",
    "y_pred = lr.predict(X_test)\n",
    "print(\"Metrics for Logistic Regression: Indica vs. Not Indica\")\n",
    "print(classification_report(y_test, y_pred))"
   ]
  },
  {
   "cell_type": "code",
   "execution_count": 72,
   "metadata": {},
   "outputs": [
    {
     "name": "stdout",
     "output_type": "stream",
     "text": [
      "Metrics for SVC: Indica vs. Not Indica\n",
      "              precision    recall  f1-score   support\n",
      "\n",
      "           0       0.81      0.81      0.81       301\n",
      "           1       0.59      0.59      0.59       138\n",
      "\n",
      "    accuracy                           0.74       439\n",
      "   macro avg       0.70      0.70      0.70       439\n",
      "weighted avg       0.74      0.74      0.74       439\n",
      "\n"
     ]
    }
   ],
   "source": [
    "svc = SVC(probability=True, random_state=42)\n",
    "svc.fit(X_train,y_train)\n",
    "\n",
    "y_pred = svc.predict(X_test)\n",
    "print(\"Metrics for SVC: Indica vs. Not Indica\")\n",
    "print(classification_report(y_test, y_pred))"
   ]
  },
  {
   "cell_type": "markdown",
   "metadata": {},
   "source": [
    "**Sativa vs. Not Sativa**"
   ]
  },
  {
   "cell_type": "code",
   "execution_count": 73,
   "metadata": {},
   "outputs": [
    {
     "name": "stdout",
     "output_type": "stream",
     "text": [
      "Metrics for Logistic Regression: Sativa vs. Not Sativa\n",
      "              precision    recall  f1-score   support\n",
      "\n",
      "           0       0.86      0.93      0.90       450\n",
      "           1       0.50      0.32      0.39        98\n",
      "\n",
      "    accuracy                           0.82       548\n",
      "   macro avg       0.68      0.62      0.64       548\n",
      "weighted avg       0.80      0.82      0.80       548\n",
      "\n"
     ]
    }
   ],
   "source": [
    "X = df.drop(columns = [\"is_indica\",\"is_sativa\",\"is_hybrid\",\"Type\",\"Strain\", \"Effects\", \"Flavor\"])\n",
    "y = df[\"is_sativa\"]\n",
    "\n",
    "X_train, X_test, y_train, y_test = train_test_split(X, y, test_size=0.25, random_state=42)\n",
    "\n",
    "lr = LogisticRegression(random_state=1)\n",
    "lr.fit(X_train, y_train)\n",
    "\n",
    "#evaluate\n",
    "y_pred = lr.predict(X_test)\n",
    "print(\"Metrics for Logistic Regression: Sativa vs. Not Sativa\")\n",
    "print(classification_report(y_test, y_pred))"
   ]
  },
  {
   "cell_type": "code",
   "execution_count": 74,
   "metadata": {},
   "outputs": [
    {
     "name": "stdout",
     "output_type": "stream",
     "text": [
      "Metrics for SVC: Sativa vs. Not Sativa\n",
      "              precision    recall  f1-score   support\n",
      "\n",
      "           0       0.82      1.00      0.90       450\n",
      "           1       0.00      0.00      0.00        98\n",
      "\n",
      "    accuracy                           0.82       548\n",
      "   macro avg       0.41      0.50      0.45       548\n",
      "weighted avg       0.67      0.82      0.74       548\n",
      "\n"
     ]
    }
   ],
   "source": [
    "svc = SVC(probability=True, random_state=1)\n",
    "svc.fit(X_train,y_train)\n",
    "\n",
    "y_pred = svc.predict(X_test)\n",
    "print(\"Metrics for SVC: Sativa vs. Not Sativa\")\n",
    "print(classification_report(y_test, y_pred))"
   ]
  },
  {
   "cell_type": "markdown",
   "metadata": {},
   "source": [
    "**Hybrid Vs not Hybrid LR**"
   ]
  },
  {
   "cell_type": "code",
   "execution_count": 75,
   "metadata": {},
   "outputs": [
    {
     "name": "stdout",
     "output_type": "stream",
     "text": [
      "Metrics for Logistic Regression: Hybrid vs. Not Hybrid\n",
      "              precision    recall  f1-score   support\n",
      "\n",
      "           0       0.61      0.55      0.58       268\n",
      "           1       0.61      0.67      0.64       280\n",
      "\n",
      "    accuracy                           0.61       548\n",
      "   macro avg       0.61      0.61      0.61       548\n",
      "weighted avg       0.61      0.61      0.61       548\n",
      "\n"
     ]
    }
   ],
   "source": [
    "X = df.drop(columns = [\"is_indica\",\"is_sativa\",\"is_hybrid\",\"Type\",\"Strain\", \"Effects\", \"Flavor\"])\n",
    "y = df[\"is_hybrid\"]\n",
    "\n",
    "X_train, X_test, y_train, y_test = train_test_split(X, y, test_size=0.25, random_state=42)\n",
    "\n",
    "lr = LogisticRegression(random_state=1)\n",
    "lr.fit(X_train, y_train)\n",
    "\n",
    "y_pred = lr.predict(X_test)\n",
    "print(\"Metrics for Logistic Regression: Hybrid vs. Not Hybrid\")\n",
    "print(classification_report(y_test, y_pred))"
   ]
  },
  {
   "cell_type": "code",
   "execution_count": 76,
   "metadata": {},
   "outputs": [
    {
     "name": "stdout",
     "output_type": "stream",
     "text": [
      "Metrics for SVC: Hybrid vs. Not Hybrid\n",
      "              precision    recall  f1-score   support\n",
      "\n",
      "           0       0.62      0.43      0.51       268\n",
      "           1       0.58      0.74      0.65       280\n",
      "\n",
      "    accuracy                           0.59       548\n",
      "   macro avg       0.60      0.59      0.58       548\n",
      "weighted avg       0.60      0.59      0.58       548\n",
      "\n"
     ]
    }
   ],
   "source": [
    "svc = SVC(probability=True, random_state=42)\n",
    "svc.fit(X_train,y_train)\n",
    "\n",
    "y_pred = svc.predict(X_test)\n",
    "print(\"Metrics for SVC: Hybrid vs. Not Hybrid\")\n",
    "print(classification_report(y_test, y_pred))"
   ]
  },
  {
   "cell_type": "markdown",
   "metadata": {},
   "source": [
    "Logistic Regression for Sativa and not Sativa gave the best results, worst is the hybrid SVC model this make sense as it is classifying the hybrid species which is already difficult to classify."
   ]
  },
  {
   "cell_type": "markdown",
   "metadata": {},
   "source": [
    "**Q2. Which of the six models did the best job distinguishing the target category from the rest? Which did the worst? Does this make intuitive sense?**"
   ]
  },
  {
   "cell_type": "code",
   "execution_count": 77,
   "metadata": {},
   "outputs": [
    {
     "name": "stdout",
     "output_type": "stream",
     "text": [
      "Metrics for SVC: indica vs. sativa\n",
      "              precision    recall  f1-score   support\n",
      "\n",
      "           0       0.82      0.78      0.80        82\n",
      "           1       0.87      0.89      0.88       132\n",
      "\n",
      "    accuracy                           0.85       214\n",
      "   macro avg       0.84      0.84      0.84       214\n",
      "weighted avg       0.85      0.85      0.85       214\n",
      "\n",
      "Metrics for SVC: indica vs. hybrid\n",
      "              precision    recall  f1-score   support\n",
      "\n",
      "           0       0.80      0.77      0.78       225\n",
      "           1       0.63      0.67      0.65       132\n",
      "\n",
      "    accuracy                           0.73       357\n",
      "   macro avg       0.72      0.72      0.72       357\n",
      "weighted avg       0.74      0.73      0.74       357\n",
      "\n",
      "Metrics for SVC: hybrid vs. sativa\n",
      "              precision    recall  f1-score   support\n",
      "\n",
      "           0       0.00      0.00      0.00        82\n",
      "           1       0.73      1.00      0.85       225\n",
      "\n",
      "    accuracy                           0.73       307\n",
      "   macro avg       0.37      0.50      0.42       307\n",
      "weighted avg       0.54      0.73      0.62       307\n",
      "\n"
     ]
    }
   ],
   "source": [
    "X = df.drop(columns=[\"Type\", \"Strain\", \"Effects\", \"Flavor\",\"is_indica\",\"is_sativa\",\"is_hybrid\"])\n",
    "y = df[\"Type\"]\n",
    "\n",
    "class_pairs = [(\"indica\", \"sativa\"), (\"indica\", \"hybrid\"), (\"hybrid\", \"sativa\")] # pairs of interest\n",
    "\n",
    "for class1, class2 in class_pairs: # loop through, filter using mask, convert to binary (had some AI help creating this loop)\n",
    "\n",
    "    mask = (y == class1) | (y == class2)\n",
    "    X_filtered, y_filtered = X[mask], y[mask]\n",
    "\n",
    "    y_binary = np.where(y_filtered == class1, 1, 0)\n",
    "\n",
    "    X_train, X_test, y_train, y_test = train_test_split(X_filtered, y_binary, test_size=0.2, stratify=y_binary, random_state=1)\n",
    "\n",
    "    svc = SVC(probability=True, random_state=1)\n",
    "    svc.fit(X_train, y_train)\n",
    "\n",
    "    y_pred = svc.predict(X_test)\n",
    "    print(f\"Metrics for SVC: {class1} vs. {class2}\")\n",
    "    print(classification_report(y_test, y_pred))"
   ]
  },
  {
   "cell_type": "code",
   "execution_count": 78,
   "metadata": {},
   "outputs": [
    {
     "name": "stdout",
     "output_type": "stream",
     "text": [
      "Metrics for Logistic Regression: indica vs. sativa\n",
      "              precision    recall  f1-score   support\n",
      "\n",
      "           0       0.78      0.79      0.79        82\n",
      "           1       0.87      0.86      0.87       132\n",
      "\n",
      "    accuracy                           0.84       214\n",
      "   macro avg       0.83      0.83      0.83       214\n",
      "weighted avg       0.84      0.84      0.84       214\n",
      "\n",
      "Metrics for Logistic Regression: indica vs. hybrid\n",
      "              precision    recall  f1-score   support\n",
      "\n",
      "           0       0.79      0.82      0.80       225\n",
      "           1       0.67      0.62      0.64       132\n",
      "\n",
      "    accuracy                           0.75       357\n",
      "   macro avg       0.73      0.72      0.72       357\n",
      "weighted avg       0.74      0.75      0.74       357\n",
      "\n",
      "Metrics for Logistic Regression: hybrid vs. sativa\n",
      "              precision    recall  f1-score   support\n",
      "\n",
      "           0       0.57      0.30      0.40        82\n",
      "           1       0.78      0.92      0.84       225\n",
      "\n",
      "    accuracy                           0.75       307\n",
      "   macro avg       0.68      0.61      0.62       307\n",
      "weighted avg       0.73      0.75      0.72       307\n",
      "\n"
     ]
    }
   ],
   "source": [
    "for class1, class2 in class_pairs:\n",
    "\n",
    "    mask = (y == class1) | (y == class2)\n",
    "    X_filtered, y_filtered = X[mask], y[mask]\n",
    "\n",
    "    y_binary = np.where(y_filtered == class1, 1, 0)\n",
    "\n",
    "    X_train, X_test, y_train, y_test = train_test_split(\n",
    "        X_filtered, y_binary, test_size=0.2, stratify=y_binary, random_state=1\n",
    "    )\n",
    "\n",
    "    lr = LogisticRegression(random_state=1)\n",
    "    lr.fit(X_train, y_train)\n",
    "\n",
    "    y_pred = lr.predict(X_test)\n",
    "    print(f\"Metrics for Logistic Regression: {class1} vs. {class2}\")\n",
    "    print(classification_report(y_test, y_pred))"
   ]
  },
  {
   "cell_type": "markdown",
   "metadata": {},
   "source": [
    "Best model would be SVC for Indica vs Sativa and worst model is SVC hybrid vs Staiva. It makes sense as classifing against hybrid will always be little complicated as it has the properties of both species.\n",
    "Classifing between Indica and Sativa should be good as it has different properties."
   ]
  },
  {
   "cell_type": "markdown",
   "metadata": {},
   "source": [
    "**Q3 Suppose you had simply input the full data, with three classes, into the LogisticRegression function. Would this have automatically taken an “OvO” approach or an “OvR” approach?What about for SVC?**"
   ]
  },
  {
   "cell_type": "markdown",
   "metadata": {},
   "source": [
    "If we simply input the full data with three classes:\n",
    "Logistic Regressionnn fucntion default approch is One vs Rest (OvR).<br>\n",
    "SVC's default approch would be One vs One (OvO)."
   ]
  }
 ],
 "metadata": {
  "kernelspec": {
   "display_name": "Python 3",
   "language": "python",
   "name": "python3"
  },
  "language_info": {
   "codemirror_mode": {
    "name": "ipython",
    "version": 3
   },
   "file_extension": ".py",
   "mimetype": "text/x-python",
   "name": "python",
   "nbconvert_exporter": "python",
   "pygments_lexer": "ipython3",
   "version": "3.11.4"
  }
 },
 "nbformat": 4,
 "nbformat_minor": 2
}
