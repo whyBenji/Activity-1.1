{
  "cells": [
    {
      "cell_type": "raw",
      "metadata": {
        "vscode": {
          "languageId": "raw"
        }
      },
      "source": [
        "--- \n",
        "title : \"Titanic_Wrangling\"\n",
        "author: Jatin Puri\n",
        "format:\n",
        "    html:\n",
        "        theme: cosmo\n",
        "        code-fold: true\n",
        "        embed-resources: true\n",
        "---"
      ]
    },
    {
      "cell_type": "markdown",
      "metadata": {
        "id": "QWpPySbzYEIV"
      },
      "source": [
        "# Titanic Wrangling\n",
        "\n",
        "In this practice activity you'll continue to work with the titanic dataset in ways that flex what you've learned about both data wrangling and data visualization."
      ]
    },
    {
      "cell_type": "markdown",
      "metadata": {},
      "source": [
        "**Importing Library**"
      ]
    },
    {
      "cell_type": "code",
      "execution_count": 2,
      "metadata": {},
      "outputs": [],
      "source": [
        "import pandas as pd"
      ]
    },
    {
      "cell_type": "markdown",
      "metadata": {},
      "source": [
        "**Importing Dataset**"
      ]
    },
    {
      "cell_type": "code",
      "execution_count": 11,
      "metadata": {
        "id": "Nr6w8bVCf_NM"
      },
      "outputs": [
        {
          "data": {
            "text/html": [
              "<div>\n",
              "<style scoped>\n",
              "    .dataframe tbody tr th:only-of-type {\n",
              "        vertical-align: middle;\n",
              "    }\n",
              "\n",
              "    .dataframe tbody tr th {\n",
              "        vertical-align: top;\n",
              "    }\n",
              "\n",
              "    .dataframe thead th {\n",
              "        text-align: right;\n",
              "    }\n",
              "</style>\n",
              "<table border=\"1\" class=\"dataframe\">\n",
              "  <thead>\n",
              "    <tr style=\"text-align: right;\">\n",
              "      <th></th>\n",
              "      <th>name</th>\n",
              "      <th>gender</th>\n",
              "      <th>age</th>\n",
              "      <th>class</th>\n",
              "      <th>embarked</th>\n",
              "      <th>country</th>\n",
              "      <th>ticketno</th>\n",
              "      <th>fare</th>\n",
              "      <th>survived</th>\n",
              "    </tr>\n",
              "  </thead>\n",
              "  <tbody>\n",
              "    <tr>\n",
              "      <th>0</th>\n",
              "      <td>Abbing, Mr. Anthony</td>\n",
              "      <td>male</td>\n",
              "      <td>42.0</td>\n",
              "      <td>3rd</td>\n",
              "      <td>S</td>\n",
              "      <td>United States</td>\n",
              "      <td>5547.0</td>\n",
              "      <td>7.11</td>\n",
              "      <td>0</td>\n",
              "    </tr>\n",
              "    <tr>\n",
              "      <th>1</th>\n",
              "      <td>Abbott, Mr. Eugene Joseph</td>\n",
              "      <td>male</td>\n",
              "      <td>13.0</td>\n",
              "      <td>3rd</td>\n",
              "      <td>S</td>\n",
              "      <td>United States</td>\n",
              "      <td>2673.0</td>\n",
              "      <td>20.05</td>\n",
              "      <td>0</td>\n",
              "    </tr>\n",
              "    <tr>\n",
              "      <th>2</th>\n",
              "      <td>Abbott, Mr. Rossmore Edward</td>\n",
              "      <td>male</td>\n",
              "      <td>16.0</td>\n",
              "      <td>3rd</td>\n",
              "      <td>S</td>\n",
              "      <td>United States</td>\n",
              "      <td>2673.0</td>\n",
              "      <td>20.05</td>\n",
              "      <td>0</td>\n",
              "    </tr>\n",
              "    <tr>\n",
              "      <th>3</th>\n",
              "      <td>Abbott, Mrs. Rhoda Mary 'Rosa'</td>\n",
              "      <td>female</td>\n",
              "      <td>39.0</td>\n",
              "      <td>3rd</td>\n",
              "      <td>S</td>\n",
              "      <td>England</td>\n",
              "      <td>2673.0</td>\n",
              "      <td>20.05</td>\n",
              "      <td>1</td>\n",
              "    </tr>\n",
              "    <tr>\n",
              "      <th>4</th>\n",
              "      <td>Abelseth, Miss. Karen Marie</td>\n",
              "      <td>female</td>\n",
              "      <td>16.0</td>\n",
              "      <td>3rd</td>\n",
              "      <td>S</td>\n",
              "      <td>Norway</td>\n",
              "      <td>348125.0</td>\n",
              "      <td>7.13</td>\n",
              "      <td>1</td>\n",
              "    </tr>\n",
              "    <tr>\n",
              "      <th>...</th>\n",
              "      <td>...</td>\n",
              "      <td>...</td>\n",
              "      <td>...</td>\n",
              "      <td>...</td>\n",
              "      <td>...</td>\n",
              "      <td>...</td>\n",
              "      <td>...</td>\n",
              "      <td>...</td>\n",
              "      <td>...</td>\n",
              "    </tr>\n",
              "    <tr>\n",
              "      <th>2202</th>\n",
              "      <td>Wynn, Mr. Walter</td>\n",
              "      <td>male</td>\n",
              "      <td>41.0</td>\n",
              "      <td>deck crew</td>\n",
              "      <td>B</td>\n",
              "      <td>England</td>\n",
              "      <td>NaN</td>\n",
              "      <td>NaN</td>\n",
              "      <td>1</td>\n",
              "    </tr>\n",
              "    <tr>\n",
              "      <th>2203</th>\n",
              "      <td>Yearsley, Mr. Harry</td>\n",
              "      <td>male</td>\n",
              "      <td>40.0</td>\n",
              "      <td>victualling crew</td>\n",
              "      <td>S</td>\n",
              "      <td>England</td>\n",
              "      <td>NaN</td>\n",
              "      <td>NaN</td>\n",
              "      <td>1</td>\n",
              "    </tr>\n",
              "    <tr>\n",
              "      <th>2204</th>\n",
              "      <td>Young, Mr. Francis James</td>\n",
              "      <td>male</td>\n",
              "      <td>32.0</td>\n",
              "      <td>engineering crew</td>\n",
              "      <td>S</td>\n",
              "      <td>England</td>\n",
              "      <td>NaN</td>\n",
              "      <td>NaN</td>\n",
              "      <td>0</td>\n",
              "    </tr>\n",
              "    <tr>\n",
              "      <th>2205</th>\n",
              "      <td>Zanetti, Sig. Minio</td>\n",
              "      <td>male</td>\n",
              "      <td>20.0</td>\n",
              "      <td>restaurant staff</td>\n",
              "      <td>S</td>\n",
              "      <td>England</td>\n",
              "      <td>NaN</td>\n",
              "      <td>NaN</td>\n",
              "      <td>0</td>\n",
              "    </tr>\n",
              "    <tr>\n",
              "      <th>2206</th>\n",
              "      <td>Zarracchi, Sig. L.</td>\n",
              "      <td>male</td>\n",
              "      <td>26.0</td>\n",
              "      <td>restaurant staff</td>\n",
              "      <td>S</td>\n",
              "      <td>England</td>\n",
              "      <td>NaN</td>\n",
              "      <td>NaN</td>\n",
              "      <td>0</td>\n",
              "    </tr>\n",
              "  </tbody>\n",
              "</table>\n",
              "<p>2207 rows × 9 columns</p>\n",
              "</div>"
            ],
            "text/plain": [
              "                                name  gender   age             class embarked  \\\n",
              "0                Abbing, Mr. Anthony    male  42.0               3rd        S   \n",
              "1          Abbott, Mr. Eugene Joseph    male  13.0               3rd        S   \n",
              "2        Abbott, Mr. Rossmore Edward    male  16.0               3rd        S   \n",
              "3     Abbott, Mrs. Rhoda Mary 'Rosa'  female  39.0               3rd        S   \n",
              "4        Abelseth, Miss. Karen Marie  female  16.0               3rd        S   \n",
              "...                              ...     ...   ...               ...      ...   \n",
              "2202                Wynn, Mr. Walter    male  41.0         deck crew        B   \n",
              "2203             Yearsley, Mr. Harry    male  40.0  victualling crew        S   \n",
              "2204        Young, Mr. Francis James    male  32.0  engineering crew        S   \n",
              "2205             Zanetti, Sig. Minio    male  20.0  restaurant staff        S   \n",
              "2206              Zarracchi, Sig. L.    male  26.0  restaurant staff        S   \n",
              "\n",
              "            country  ticketno   fare  survived  \n",
              "0     United States    5547.0   7.11         0  \n",
              "1     United States    2673.0  20.05         0  \n",
              "2     United States    2673.0  20.05         0  \n",
              "3           England    2673.0  20.05         1  \n",
              "4            Norway  348125.0   7.13         1  \n",
              "...             ...       ...    ...       ...  \n",
              "2202        England       NaN    NaN         1  \n",
              "2203        England       NaN    NaN         1  \n",
              "2204        England       NaN    NaN         0  \n",
              "2205        England       NaN    NaN         0  \n",
              "2206        England       NaN    NaN         0  \n",
              "\n",
              "[2207 rows x 9 columns]"
            ]
          },
          "execution_count": 11,
          "metadata": {},
          "output_type": "execute_result"
        }
      ],
      "source": [
        "data_dir = \"https://dlsun.github.io/pods/data/\"\n",
        "df = pd.read_csv(data_dir + \"titanic.csv\")\n",
        "df"
      ]
    },
    {
      "cell_type": "markdown",
      "metadata": {},
      "source": [
        "**Finging Unique Values of Class**"
      ]
    },
    {
      "cell_type": "code",
      "execution_count": 5,
      "metadata": {},
      "outputs": [
        {
          "data": {
            "text/plain": [
              "array(['3rd', '2nd', '1st', 'engineering crew', 'victualling crew',\n",
              "       'restaurant staff', 'deck crew'], dtype=object)"
            ]
          },
          "execution_count": 5,
          "metadata": {},
          "output_type": "execute_result"
        }
      ],
      "source": [
        "df['class'].unique()"
      ]
    },
    {
      "cell_type": "markdown",
      "metadata": {
        "id": "9UgZD6VFYa96"
      },
      "source": [
        "## 1. Filter the data to include passengers only. Calculate the joint distribution (cross-tab) between a passenger's class and where they embarked."
      ]
    },
    {
      "cell_type": "code",
      "execution_count": 6,
      "metadata": {
        "id": "TBthOzDLgBif"
      },
      "outputs": [],
      "source": [
        "passFilter = df[(df['class'] == '3rd') | (df['class']=='2nd') | (df['class'] == '1st')]['class']"
      ]
    },
    {
      "cell_type": "markdown",
      "metadata": {},
      "source": [
        "**Joint Distribution**"
      ]
    },
    {
      "cell_type": "code",
      "execution_count": 7,
      "metadata": {},
      "outputs": [
        {
          "data": {
            "text/html": [
              "<div>\n",
              "<style scoped>\n",
              "    .dataframe tbody tr th:only-of-type {\n",
              "        vertical-align: middle;\n",
              "    }\n",
              "\n",
              "    .dataframe tbody tr th {\n",
              "        vertical-align: top;\n",
              "    }\n",
              "\n",
              "    .dataframe thead th {\n",
              "        text-align: right;\n",
              "    }\n",
              "</style>\n",
              "<table border=\"1\" class=\"dataframe\">\n",
              "  <thead>\n",
              "    <tr style=\"text-align: right;\">\n",
              "      <th>embarked</th>\n",
              "      <th>B</th>\n",
              "      <th>C</th>\n",
              "      <th>Q</th>\n",
              "      <th>S</th>\n",
              "    </tr>\n",
              "    <tr>\n",
              "      <th>class</th>\n",
              "      <th></th>\n",
              "      <th></th>\n",
              "      <th></th>\n",
              "      <th></th>\n",
              "    </tr>\n",
              "  </thead>\n",
              "  <tbody>\n",
              "    <tr>\n",
              "      <th>1st</th>\n",
              "      <td>3</td>\n",
              "      <td>143</td>\n",
              "      <td>3</td>\n",
              "      <td>175</td>\n",
              "    </tr>\n",
              "    <tr>\n",
              "      <th>2nd</th>\n",
              "      <td>6</td>\n",
              "      <td>26</td>\n",
              "      <td>7</td>\n",
              "      <td>245</td>\n",
              "    </tr>\n",
              "    <tr>\n",
              "      <th>3rd</th>\n",
              "      <td>0</td>\n",
              "      <td>102</td>\n",
              "      <td>113</td>\n",
              "      <td>494</td>\n",
              "    </tr>\n",
              "  </tbody>\n",
              "</table>\n",
              "</div>"
            ],
            "text/plain": [
              "embarked  B    C    Q    S\n",
              "class                     \n",
              "1st       3  143    3  175\n",
              "2nd       6   26    7  245\n",
              "3rd       0  102  113  494"
            ]
          },
          "execution_count": 7,
          "metadata": {},
          "output_type": "execute_result"
        }
      ],
      "source": [
        "crossTab = pd.crosstab(passFilter,df['embarked'])\n",
        "crossTab"
      ]
    },
    {
      "cell_type": "markdown",
      "metadata": {
        "id": "3CRaJLSyYm4d"
      },
      "source": [
        "## 2. Using the joint distribution that calculated above, calculate the following:\n",
        "\n",
        "* the conditional distribution of their class given where they embarked\n",
        "* the conditional distribution of where they embarked given their class\n",
        "\n",
        "Use the conditional distributions that you calculate to answer the following quesitons:\n",
        "\n",
        "* What proportion of 3rd class passengers embarked at Southampton?\n",
        "* What proportion of Southampton passengers were in 3rd class?"
      ]
    },
    {
      "cell_type": "code",
      "execution_count": 13,
      "metadata": {
        "id": "TfTGidLIv1k0"
      },
      "outputs": [
        {
          "data": {
            "text/html": [
              "<div>\n",
              "<style scoped>\n",
              "    .dataframe tbody tr th:only-of-type {\n",
              "        vertical-align: middle;\n",
              "    }\n",
              "\n",
              "    .dataframe tbody tr th {\n",
              "        vertical-align: top;\n",
              "    }\n",
              "\n",
              "    .dataframe thead th {\n",
              "        text-align: right;\n",
              "    }\n",
              "</style>\n",
              "<table border=\"1\" class=\"dataframe\">\n",
              "  <thead>\n",
              "    <tr style=\"text-align: right;\">\n",
              "      <th>embarked</th>\n",
              "      <th>B</th>\n",
              "      <th>C</th>\n",
              "      <th>Q</th>\n",
              "      <th>S</th>\n",
              "    </tr>\n",
              "    <tr>\n",
              "      <th>class</th>\n",
              "      <th></th>\n",
              "      <th></th>\n",
              "      <th></th>\n",
              "      <th></th>\n",
              "    </tr>\n",
              "  </thead>\n",
              "  <tbody>\n",
              "    <tr>\n",
              "      <th>1st</th>\n",
              "      <td>0.009259</td>\n",
              "      <td>0.441358</td>\n",
              "      <td>0.009259</td>\n",
              "      <td>0.540123</td>\n",
              "    </tr>\n",
              "    <tr>\n",
              "      <th>2nd</th>\n",
              "      <td>0.021127</td>\n",
              "      <td>0.091549</td>\n",
              "      <td>0.024648</td>\n",
              "      <td>0.862676</td>\n",
              "    </tr>\n",
              "    <tr>\n",
              "      <th>3rd</th>\n",
              "      <td>0.000000</td>\n",
              "      <td>0.143865</td>\n",
              "      <td>0.159379</td>\n",
              "      <td>0.696756</td>\n",
              "    </tr>\n",
              "  </tbody>\n",
              "</table>\n",
              "</div>"
            ],
            "text/plain": [
              "embarked         B         C         Q         S\n",
              "class                                           \n",
              "1st       0.009259  0.441358  0.009259  0.540123\n",
              "2nd       0.021127  0.091549  0.024648  0.862676\n",
              "3rd       0.000000  0.143865  0.159379  0.696756"
            ]
          },
          "execution_count": 13,
          "metadata": {},
          "output_type": "execute_result"
        }
      ],
      "source": [
        "conDiv = crossTab.div(crossTab.sum(axis=1), axis=0)\n",
        "conDiv"
      ]
    },
    {
      "cell_type": "code",
      "execution_count": 14,
      "metadata": {},
      "outputs": [
        {
          "data": {
            "text/html": [
              "<div>\n",
              "<style scoped>\n",
              "    .dataframe tbody tr th:only-of-type {\n",
              "        vertical-align: middle;\n",
              "    }\n",
              "\n",
              "    .dataframe tbody tr th {\n",
              "        vertical-align: top;\n",
              "    }\n",
              "\n",
              "    .dataframe thead th {\n",
              "        text-align: right;\n",
              "    }\n",
              "</style>\n",
              "<table border=\"1\" class=\"dataframe\">\n",
              "  <thead>\n",
              "    <tr style=\"text-align: right;\">\n",
              "      <th>embarked</th>\n",
              "      <th>B</th>\n",
              "      <th>C</th>\n",
              "      <th>Q</th>\n",
              "      <th>S</th>\n",
              "    </tr>\n",
              "    <tr>\n",
              "      <th>class</th>\n",
              "      <th></th>\n",
              "      <th></th>\n",
              "      <th></th>\n",
              "      <th></th>\n",
              "    </tr>\n",
              "  </thead>\n",
              "  <tbody>\n",
              "    <tr>\n",
              "      <th>1st</th>\n",
              "      <td>0.333333</td>\n",
              "      <td>0.527675</td>\n",
              "      <td>0.024390</td>\n",
              "      <td>0.191466</td>\n",
              "    </tr>\n",
              "    <tr>\n",
              "      <th>2nd</th>\n",
              "      <td>0.666667</td>\n",
              "      <td>0.095941</td>\n",
              "      <td>0.056911</td>\n",
              "      <td>0.268053</td>\n",
              "    </tr>\n",
              "    <tr>\n",
              "      <th>3rd</th>\n",
              "      <td>0.000000</td>\n",
              "      <td>0.376384</td>\n",
              "      <td>0.918699</td>\n",
              "      <td>0.540481</td>\n",
              "    </tr>\n",
              "  </tbody>\n",
              "</table>\n",
              "</div>"
            ],
            "text/plain": [
              "embarked         B         C         Q         S\n",
              "class                                           \n",
              "1st       0.333333  0.527675  0.024390  0.191466\n",
              "2nd       0.666667  0.095941  0.056911  0.268053\n",
              "3rd       0.000000  0.376384  0.918699  0.540481"
            ]
          },
          "execution_count": 14,
          "metadata": {},
          "output_type": "execute_result"
        }
      ],
      "source": [
        "conDiv = crossTab.div(crossTab.sum(axis=0), axis=1)\n",
        "conDiv"
      ]
    },
    {
      "cell_type": "markdown",
      "metadata": {},
      "source": [
        "**Answers**\n",
        "* What proportion of 3rd class passengers embarked at Southampton?\n",
        "    69.6%\n",
        "* What proportion of Southampton passengers were in 3rd class?\n",
        "    54.04%"
      ]
    },
    {
      "cell_type": "markdown",
      "metadata": {
        "id": "pGUQeeh1ZRfz"
      },
      "source": [
        "## 3. Make a visualization showing the distribution of a passenger's class, given where they embarked.\n",
        "\n",
        "Discuss the pros and cons of using this visualization versus the distributions you calculated before, to answer the previous questions."
      ]
    },
    {
      "cell_type": "code",
      "execution_count": 9,
      "metadata": {
        "id": "PZ18WKJWA-xZ"
      },
      "outputs": [],
      "source": [
        "import seaborn as sns\n",
        "import matplotlib.pyplot as plt"
      ]
    },
    {
      "cell_type": "code",
      "execution_count": 24,
      "metadata": {},
      "outputs": [],
      "source": [
        "df1 = df[(df['class'] == '3rd') | (df['class']=='2nd') | (df['class'] == '1st')]"
      ]
    },
    {
      "cell_type": "code",
      "execution_count": 28,
      "metadata": {},
      "outputs": [
        {
          "data": {
            "text/plain": [
              "<matplotlib.legend.Legend at 0x15dbf1cd0>"
            ]
          },
          "execution_count": 28,
          "metadata": {},
          "output_type": "execute_result"
        },
        {
          "data": {
            "image/png": "[encoded data removed]",
            "text/plain": [
              "<Figure size 640x480 with 1 Axes>"
            ]
          },
          "metadata": {},
          "output_type": "display_data"
        }
      ],
      "source": [
        "# sns.countplot(x='class', data = df)\n",
        "sns.countplot(data=df1, x='embarked', hue='class', palette='Blues')\n",
        "plt.title('Distribution of Passenger Class by Embarke Point')\n",
        "plt.xlabel('Embarkation Point')\n",
        "plt.ylabel('Number of Passengers')\n",
        "plt.legend(title='Passenger Class', loc='upper right')"
      ]
    },
    {
      "cell_type": "code",
      "execution_count": null,
      "metadata": {},
      "outputs": [],
      "source": []
    }
  ],
  "metadata": {
    "colab": {
      "provenance": []
    },
    "kernelspec": {
      "display_name": "Python 3",
      "name": "python3"
    },
    "language_info": {
      "codemirror_mode": {
        "name": "ipython",
        "version": 3
      },
      "file_extension": ".py",
      "mimetype": "text/x-python",
      "name": "python",
      "nbconvert_exporter": "python",
      "pygments_lexer": "ipython3",
      "version": "3.11.4"
    }
  },
  "nbformat": 4,
  "nbformat_minor": 0
}
