{
  "cells": [
    {
      "cell_type": "raw",
      "metadata": {
        "vscode": {
          "languageId": "raw"
        }
      },
      "source": [
        "--- \n",
        "title : \"PA_4_1_Webscraping\"\n",
        "author: Jatin Puri\n",
        "format:\n",
        "    html:\n",
        "        theme: cosmo \n",
        "        embed-resources: true\n",
        "---"
      ]
    },
    {
      "cell_type": "markdown",
      "metadata": {
        "id": "qrJX4FDa8oA8"
      },
      "source": [
        "# XML, HTML, and Web Scraping\n",
        "\n",
        "JSON and XML are two different ways to represent hierarchical data. Which one is better? There are lots of articles online which discuss similarities and differences between JSON and XML and their advantages and disadvantages. Both formats are still in current usage, so it is good to be familiar with both. However, JSON is more common, so we'll focus on working with JSON representations of hierarchical data.\n",
        "\n",
        "The reading covered an example of using Beautiful Soup to parse XML. Rather than doing another example XML now, we'll skip straight to scraping HTML from a webpage. Both HTML and XML can be parsed in a similar way with Beautiful Soup."
      ]
    },
    {
      "cell_type": "code",
      "execution_count": 1,
      "metadata": {
        "id": "XZhT8jhbuZSg"
      },
      "outputs": [],
      "source": [
        "import pandas as pd"
      ]
    },
    {
      "cell_type": "markdown",
      "metadata": {
        "id": "ApqnMQ4iV4qu"
      },
      "source": [
        "## Scraping an HTML table with Beautiful Soup"
      ]
    },
    {
      "cell_type": "markdown",
      "metadata": {
        "id": "9SD7XOs_So3G"
      },
      "source": [
        "Open the URL https://en.wikipedia.org/wiki/List_of_United_States_cities_by_population and scroll down until you see a table of the cities in the U.S. with population over 100,000 (as of Jul 1, 2022). We'll use Beautiful Soup to scrape information from this table."
      ]
    },
    {
      "cell_type": "markdown",
      "metadata": {
        "id": "HRmnzgaQS_T0"
      },
      "source": [
        "Read in the HTML from the ULR using the `requests` library."
      ]
    },
    {
      "cell_type": "code",
      "execution_count": 2,
      "metadata": {
        "id": "xvYzbSospYVu"
      },
      "outputs": [],
      "source": [
        "import requests\n",
        "response = requests.get(\"https://en.wikipedia.org/wiki/List_of_United_States_cities_by_population\")\n",
        "content = response.text"
      ]
    },
    {
      "cell_type": "markdown",
      "metadata": {
        "id": "YJ1Swg6B82_J"
      },
      "source": [
        "Use Beautiful Soup to parse this string into a tree called `soup`"
      ]
    },
    {
      "cell_type": "code",
      "execution_count": 3,
      "metadata": {
        "id": "e0jpmfwtpaEB"
      },
      "outputs": [],
      "source": [
        "from bs4 import BeautifulSoup\n",
        "soup = BeautifulSoup(content, 'html.parser')"
      ]
    },
    {
      "cell_type": "markdown",
      "metadata": {
        "id": "lFxGW_KIDjnx"
      },
      "source": [
        "To find an HTML tag corresponding to a specific element on a webpage, right-click on it and choose \"Inspect element\". Go to the cities table Wikipedia page and do this now.\n",
        "\n",
        "You should find that the cities table on the Wikipedia page corresponds to the element\n",
        "\n",
        "```\n",
        "<table class=\"wikitable sortable jquery-tablesorter\" style=\"text-align:center\">\n",
        "```"
      ]
    },
    {
      "cell_type": "markdown",
      "metadata": {
        "id": "DR50aTBZEwov"
      },
      "source": [
        "There are many `<table>` tags on the page."
      ]
    },
    {
      "cell_type": "code",
      "execution_count": 4,
      "metadata": {
        "id": "4691d-EGEwc0"
      },
      "outputs": [
        {
          "data": {
            "text/plain": [
              "10"
            ]
          },
          "execution_count": 4,
          "metadata": {},
          "output_type": "execute_result"
        }
      ],
      "source": [
        "len(soup.find_all(\"table\"))"
      ]
    },
    {
      "cell_type": "markdown",
      "metadata": {
        "id": "H1xslM2yE1GI"
      },
      "source": [
        "We can use attributes like `class=` and `style=` to narrow down the list."
      ]
    },
    {
      "cell_type": "code",
      "execution_count": 5,
      "metadata": {
        "id": "E0Q0sa46DvTZ"
      },
      "outputs": [
        {
          "data": {
            "text/plain": [
              "3"
            ]
          },
          "execution_count": 5,
          "metadata": {},
          "output_type": "execute_result"
        }
      ],
      "source": [
        "len(soup.find_all(\"table\",\n",
        "                  attrs={\n",
        "                      \"class\": \"wikitable\",\n",
        "                      \"style\": \"text-align:right\"}\n",
        "                  ))"
      ]
    },
    {
      "cell_type": "markdown",
      "metadata": {
        "id": "ndnRSJJiFFby"
      },
      "source": [
        "At this point, you can manually inspect the tables on the webpage to find that the one we want is the first one (see `[0]` below). We'll store this as `table`."
      ]
    },
    {
      "cell_type": "code",
      "execution_count": 6,
      "metadata": {
        "id": "sRBSqVGlYhuT"
      },
      "outputs": [],
      "source": [
        "table = soup.find_all(\"table\",\n",
        "                  attrs={\n",
        "                      \"class\": \"wikitable\",\n",
        "                      \"style\": \"text-align:right\"}\n",
        "                  )[0]"
      ]
    },
    {
      "cell_type": "markdown",
      "metadata": {
        "id": "j4AWo3QoYqNY"
      },
      "source": [
        "**Now you will write code to scrape the information in `table` to create a Pandas data frame with one row for each city and columns for: city, state, population (2022 estimate), and 2020 land area (sq mi).** Refer to the Notes/suggestions below as you write your code. A few Hints are provided further down, but try coding first before looking at the hints."
      ]
    },
    {
      "cell_type": "markdown",
      "metadata": {
        "id": "KfRx2_XlDUqD"
      },
      "source": [
        "Notes/suggestions:\n",
        "\n",
        "- Use as a guide the code from the reading that produced the data frame of Statistics faculty\n",
        "- Inspect the page source as you write your code\n",
        "- You will need to write a loop to get the information for all cities, but you might want to try just scraping the info for New York first\n",
        "- You will need to pull the text from the tag. If `.text` returns text with \"\\n\" at the end, try `.get_text(strip = True)` instead of `.text`\n",
        "- Don't forget to convert to a Pandas Data Frame; it should have 333 rows and 4 columns\n",
        "- The goal of this exercise is just to create the Data Frame. If you were going to use it --- e.g., what is the population density for all cities in CA? --- then you would need to clean the data first (to clean strings and convert to quantitative). (You can use Beautiful Soup to do some of the cleaning for you, but that goes beyond our scope.)"
      ]
    },
    {
      "cell_type": "code",
      "execution_count": 7,
      "metadata": {
        "id": "msKiUcOZpSX7"
      },
      "outputs": [],
      "source": [
        "cities = []\n",
        "states = []\n",
        "populations = []\n",
        "land_areas = []\n",
        "\n",
        "\n",
        "rows = table.find_all('tr')  # Finds all table rows\n",
        "\n",
        "\n",
        "for row in rows[2:]:  # Skipping the header row\n",
        "    # Finding all <td> tags in the current row\n",
        "    cells = row.find_all('td')\n",
        "    cityName = cells[0].text.strip()  \n",
        "    stateName = cells[1].text.strip()  \n",
        "    population = cells[2].text.strip()   \n",
        "    landArea = cells[5].text.strip()   \n",
        "    # Append to the lists\n",
        "    cities.append(cityName)\n",
        "    states.append(stateName)\n",
        "    populations.append(population)\n",
        "    land_areas.append(landArea)"
      ]
    },
    {
      "cell_type": "code",
      "execution_count": 8,
      "metadata": {},
      "outputs": [
        {
          "data": {
            "text/html": [
              "<div>\n",
              "<style scoped>\n",
              "    .dataframe tbody tr th:only-of-type {\n",
              "        vertical-align: middle;\n",
              "    }\n",
              "\n",
              "    .dataframe tbody tr th {\n",
              "        vertical-align: top;\n",
              "    }\n",
              "\n",
              "    .dataframe thead th {\n",
              "        text-align: right;\n",
              "    }\n",
              "</style>\n",
              "<table border=\"1\" class=\"dataframe\">\n",
              "  <thead>\n",
              "    <tr style=\"text-align: right;\">\n",
              "      <th></th>\n",
              "      <th>City</th>\n",
              "      <th>State</th>\n",
              "      <th>Population (2022 estimate)</th>\n",
              "      <th>2020 Land Area (sq mi)</th>\n",
              "    </tr>\n",
              "  </thead>\n",
              "  <tbody>\n",
              "    <tr>\n",
              "      <th>0</th>\n",
              "      <td>New York[c]</td>\n",
              "      <td>NY</td>\n",
              "      <td>8,258,035</td>\n",
              "      <td>300.5</td>\n",
              "    </tr>\n",
              "    <tr>\n",
              "      <th>1</th>\n",
              "      <td>Los Angeles</td>\n",
              "      <td>CA</td>\n",
              "      <td>3,820,914</td>\n",
              "      <td>469.5</td>\n",
              "    </tr>\n",
              "    <tr>\n",
              "      <th>2</th>\n",
              "      <td>Chicago</td>\n",
              "      <td>IL</td>\n",
              "      <td>2,664,452</td>\n",
              "      <td>227.7</td>\n",
              "    </tr>\n",
              "    <tr>\n",
              "      <th>3</th>\n",
              "      <td>Houston</td>\n",
              "      <td>TX</td>\n",
              "      <td>2,314,157</td>\n",
              "      <td>640.4</td>\n",
              "    </tr>\n",
              "    <tr>\n",
              "      <th>4</th>\n",
              "      <td>Phoenix</td>\n",
              "      <td>AZ</td>\n",
              "      <td>1,650,070</td>\n",
              "      <td>518.0</td>\n",
              "    </tr>\n",
              "    <tr>\n",
              "      <th>...</th>\n",
              "      <td>...</td>\n",
              "      <td>...</td>\n",
              "      <td>...</td>\n",
              "      <td>...</td>\n",
              "    </tr>\n",
              "    <tr>\n",
              "      <th>331</th>\n",
              "      <td>Yuma</td>\n",
              "      <td>AZ</td>\n",
              "      <td>100,858</td>\n",
              "      <td>120.7</td>\n",
              "    </tr>\n",
              "    <tr>\n",
              "      <th>332</th>\n",
              "      <td>New Bedford</td>\n",
              "      <td>MA</td>\n",
              "      <td>100,695</td>\n",
              "      <td>20.0</td>\n",
              "    </tr>\n",
              "    <tr>\n",
              "      <th>333</th>\n",
              "      <td>Suffolk[l]</td>\n",
              "      <td>VA</td>\n",
              "      <td>100,659</td>\n",
              "      <td>399.2</td>\n",
              "    </tr>\n",
              "    <tr>\n",
              "      <th>334</th>\n",
              "      <td>Hesperia</td>\n",
              "      <td>CA</td>\n",
              "      <td>100,633</td>\n",
              "      <td>72.7</td>\n",
              "    </tr>\n",
              "    <tr>\n",
              "      <th>335</th>\n",
              "      <td>Davenport</td>\n",
              "      <td>IA</td>\n",
              "      <td>100,354</td>\n",
              "      <td>63.8</td>\n",
              "    </tr>\n",
              "  </tbody>\n",
              "</table>\n",
              "<p>336 rows × 4 columns</p>\n",
              "</div>"
            ],
            "text/plain": [
              "            City State Population (2022 estimate) 2020 Land Area (sq mi)\n",
              "0    New York[c]    NY                  8,258,035                  300.5\n",
              "1    Los Angeles    CA                  3,820,914                  469.5\n",
              "2        Chicago    IL                  2,664,452                  227.7\n",
              "3        Houston    TX                  2,314,157                  640.4\n",
              "4        Phoenix    AZ                  1,650,070                  518.0\n",
              "..           ...   ...                        ...                    ...\n",
              "331         Yuma    AZ                    100,858                  120.7\n",
              "332  New Bedford    MA                    100,695                   20.0\n",
              "333   Suffolk[l]    VA                    100,659                  399.2\n",
              "334     Hesperia    CA                    100,633                   72.7\n",
              "335    Davenport    IA                    100,354                   63.8\n",
              "\n",
              "[336 rows x 4 columns]"
            ]
          },
          "execution_count": 8,
          "metadata": {},
          "output_type": "execute_result"
        }
      ],
      "source": [
        "# Creating a DataFrame from the lists\n",
        "df = pd.DataFrame({\n",
        "    'City': cities,\n",
        "    'State': states,\n",
        "    'Population (2022 estimate)': populations,\n",
        "    '2020 Land Area (sq mi)': land_areas\n",
        "})\n",
        "df"
      ]
    },
    {
      "cell_type": "markdown",
      "metadata": {
        "id": "6s3tH82XZ1X0"
      },
      "source": [
        "Hints:\n",
        "\n",
        "- Each city is a row in the table; find all the `<tr>` tags to find all the cities\n",
        "- Look for the `<td>` tag to see table entries within a row\n",
        "- The rank column is represented by `<th>` tags, rather than `<td>` tags. So within a row, the first (that is, `[0]`) `<td>` tag corresponds to the city name."
      ]
    },
    {
      "cell_type": "markdown",
      "metadata": {
        "id": "pIW4UgURNdhz"
      },
      "source": [
        "## Aside: Scraping an HTML table with Pandas\n",
        "\n"
      ]
    },
    {
      "cell_type": "markdown",
      "metadata": {
        "id": "R2ufAAMGYenH"
      },
      "source": [
        "The Pandas command `read_html` can be used to scrape information from an HTML table on a webpage.\n",
        "\n",
        "We can call `read_html` on the URL."
      ]
    },
    {
      "cell_type": "code",
      "execution_count": 9,
      "metadata": {
        "id": "YnGD1hMbpv7H"
      },
      "outputs": [
        {
          "data": {
            "text/plain": [
              "[                    Population tables of U.S. cities\n",
              " 0  The skyline of New York City, the most populou...\n",
              " 1                                             Cities\n",
              " 2  Population AreaDensityEthnic identityForeign-b...\n",
              " 3                                        Urban areas\n",
              " 4             Populous cities and metropolitan areas\n",
              " 5                                 Metropolitan areas\n",
              " 6  184 combined statistical areas935 core-based s...\n",
              " 7                                        Megaregions\n",
              " 8  See related population listsNorth American met...\n",
              " 9                                                vte,\n",
              "     0                               1\n",
              " 0 NaN                   State capital\n",
              " 1 NaN              State largest city\n",
              " 2 NaN  State capital and largest city\n",
              " 3 NaN                 Federal capital,\n",
              "             City  ST 2023 estimate 2020 census  Change 2020 land area          \\\n",
              "             City  ST 2023 estimate 2020 census  Change            mi2     km2   \n",
              " 0    New York[c]  NY       8258035     8804190  −6.20%          300.5   778.3   \n",
              " 1    Los Angeles  CA       3820914     3898747  −2.00%          469.5  1216.0   \n",
              " 2        Chicago  IL       2664452     2746388  −2.98%          227.7   589.7   \n",
              " 3        Houston  TX       2314157     2304580  +0.42%          640.4  1658.6   \n",
              " 4        Phoenix  AZ       1650070     1608139  +2.61%          518.0  1341.6   \n",
              " ..           ...  ..           ...         ...     ...            ...     ...   \n",
              " 331         Yuma  AZ        100858       95548  +5.56%          120.7   312.6   \n",
              " 332  New Bedford  MA        100695      101079  −0.38%           20.0    51.8   \n",
              " 333   Suffolk[l]  VA        100659       94324  +6.72%          399.2  1033.9   \n",
              " 334     Hesperia  CA        100633       99818  +0.82%           72.7   188.3   \n",
              " 335    Davenport  IA        100354      101724  −1.35%           63.8   165.2   \n",
              " \n",
              "     2020 density                                      Location  \n",
              "            / mi2  / km2                               Location  \n",
              " 0          29298  11312    40°40′N 73°56′W﻿ / ﻿40.66°N 73.94°W  \n",
              " 1           8304   3206  34°01′N 118°25′W﻿ / ﻿34.02°N 118.41°W  \n",
              " 2          12061   4657    41°50′N 87°41′W﻿ / ﻿41.84°N 87.68°W  \n",
              " 3           3599   1390    29°47′N 95°23′W﻿ / ﻿29.79°N 95.39°W  \n",
              " 4           3105   1199  33°34′N 112°05′W﻿ / ﻿33.57°N 112.09°W  \n",
              " ..           ...    ...                                    ...  \n",
              " 331          792    306  32°31′N 114°31′W﻿ / ﻿32.52°N 114.52°W  \n",
              " 332         5054   1951    41°40′N 70°56′W﻿ / ﻿41.66°N 70.94°W  \n",
              " 333          236     91    36°42′N 76°38′W﻿ / ﻿36.70°N 76.63°W  \n",
              " 334         1373    530  34°24′N 117°19′W﻿ / ﻿34.40°N 117.32°W  \n",
              " 335         1594    615    41°34′N 90°36′W﻿ / ﻿41.56°N 90.60°W  \n",
              " \n",
              " [336 rows x 10 columns],\n",
              "         Population  Number of municipal governments\n",
              " 0       1,000,000+                                9\n",
              " 1  700,000–999,999                               11\n",
              " 2  500,000–699,999                               18\n",
              " 3  400,000–499,999                               11\n",
              " 4  300,000–399,999                               20\n",
              " 5  200,000–299,999                               55\n",
              " 6  100,000–199,999                              212\n",
              " 7            Total                              336,\n",
              "                                                 State  Number of listed cities\n",
              " 0                                          California                       74\n",
              " 1                                               Texas                       42\n",
              " 2                                             Florida                       23\n",
              " 3                                             Arizona                       13\n",
              " 4                                            Colorado                       12\n",
              " 5                                      North Carolina                       10\n",
              " 6                           Massachusetts, Washington                        9\n",
              " 7                         Georgia, Illinois, Virginia                        8\n",
              " 8                                Michigan, New Jersey                        7\n",
              " 9   Missouri, Indiana, New York, Ohio, Oregon, Ten...                        6\n",
              " 10         Alabama, Connecticut, Kansas, Nevada, Utah                        5\n",
              " 11                                Louisiana, Oklahoma                        4\n",
              " 12  Iowa, Idaho, Minnesota, New Mexico, Pennsylvan...                        3\n",
              " 13                       Arkansas, Kentucky, Nebraska                        2\n",
              " 14  Alaska, District of Columbia, Hawaii, Maryland...                        1\n",
              " 15   Delaware, Maine, Vermont, West Virginia, Wyoming                        0,\n",
              "   Municipio  2023 estimate  2020 census  Change 2020 land area  \\\n",
              " 0  San Juan         333005       342259  −2.70%     39.8 sq mi   \n",
              " 1   Bayamón         180835       185187  −2.35%     27.0 sq mi   \n",
              " 2  Carolina         150843       154815  −2.57%     20.7 sq mi   \n",
              " 3     Ponce         130251       137491  −5.27%     28.4 sq mi   \n",
              " 4    Caguas         124608       127244  −2.07%     10.9 sq mi   \n",
              " \n",
              "   2020 land area.1  2020 density 2020 density.1  \\\n",
              " 0        103.1 km2   8,599/sq mi      3,320/km2   \n",
              " 1         69.9 km2   6,859/sq mi      2,648/km2   \n",
              " 2         53.6 km2   7,479/sq mi      2,888/km2   \n",
              " 3         73.6 km2   4,841/sq mi      1,869/km2   \n",
              " 4         28.2 km2  11,674/sq mi      4,507/km2   \n",
              " \n",
              "                               Location  \n",
              " 0  18°24′N 66°04′W﻿ / ﻿18.40°N 66.06°W  \n",
              " 1  18°23′N 66°10′W﻿ / ﻿18.38°N 66.16°W  \n",
              " 2  18°25′N 65°59′W﻿ / ﻿18.41°N 65.98°W  \n",
              " 3  18°00′N 66°37′W﻿ / ﻿18.00°N 66.62°W  \n",
              " 4  18°14′N 66°02′W﻿ / ﻿18.23°N 66.04°W  ,\n",
              "    Census- designated place  ST 2020 census 2010 census    Change  \\\n",
              "    Census- designated place  ST 2020 census 2010 census    Change   \n",
              " 0                 Arlington  VA      238643      207627   +14.94%   \n",
              " 1                Enterprise  NV      221831      108481  +104.49%   \n",
              " 2             Spring Valley  NV      215597      178395   +20.85%   \n",
              " 3             Sunrise Manor  NV      205618      189372    +8.58%   \n",
              " 4                  Paradise  NV      191238      223167   −14.31%   \n",
              " 5                  Metairie  LA      143507      138481    +3.63%   \n",
              " 6          East Los Angeles  CA      118786      126496    −6.10%   \n",
              " 7                   Brandon  FL      114626      103483   +10.77%   \n",
              " 8             The Woodlands  TX      114436       93847   +21.94%   \n",
              " 9              Lehigh Acres  FL      114287       86784   +31.69%   \n",
              " 10              Spring Hill  FL      113568       98621   +15.16%   \n",
              " 11                Riverview  FL      107396       71050   +51.16%   \n",
              " 12                 Columbia  MD      104681       99615    +5.09%   \n",
              " 13          Highlands Ranch  CO      103444       96713    +6.96%   \n",
              " \n",
              "    2020 land area          2020 density        \\\n",
              "               mi2      km2        / mi2 / km2   \n",
              " 0            26.0   67.340         9179  3544   \n",
              " 1            66.0  170.939         3361  1298   \n",
              " 2            35.5   91.945         6073  2345   \n",
              " 3            33.7   87.283         6101  2356   \n",
              " 4            42.4  109.815         4510  1740   \n",
              " 5            23.3   60.347         6159  2378   \n",
              " 6             7.5   19.425        15838  6115   \n",
              " 7            33.1   85.729         3463  1337   \n",
              " 8            43.3  112.146         2643  1020   \n",
              " 9            92.7  240.092         1233   476   \n",
              " 10           59.9  155.140         1896   732   \n",
              " 11           46.2  119.657         2325   898   \n",
              " 12           31.9   82.621         3282  1267   \n",
              " 13           24.3   62.937         4257  1644   \n",
              " \n",
              "                                  Location  \n",
              "                                  Location  \n",
              " 0     38°53′N 77°06′W﻿ / ﻿38.88°N 77.10°W  \n",
              " 1   36°01′N 115°14′W﻿ / ﻿36.01°N 115.23°W  \n",
              " 2   36°06′N 115°16′W﻿ / ﻿36.10°N 115.26°W  \n",
              " 3   36°11′N 115°03′W﻿ / ﻿36.18°N 115.05°W  \n",
              " 4   36°05′N 115°08′W﻿ / ﻿36.09°N 115.14°W  \n",
              " 5     30°00′N 90°11′W﻿ / ﻿30.00°N 90.18°W  \n",
              " 6   34°02′N 118°10′W﻿ / ﻿34.03°N 118.17°W  \n",
              " 7     27°56′N 82°18′W﻿ / ﻿27.94°N 82.30°W  \n",
              " 8     30°10′N 95°31′W﻿ / ﻿30.17°N 95.51°W  \n",
              " 9     26°37′N 81°38′W﻿ / ﻿26.61°N 81.64°W  \n",
              " 10    28°29′N 82°32′W﻿ / ﻿28.48°N 82.53°W  \n",
              " 11    27°49′N 82°18′W﻿ / ﻿27.82°N 82.30°W  \n",
              " 12    39°12′N 76°52′W﻿ / ﻿39.20°N 76.86°W  \n",
              " 13  39°32′N 104°58′W﻿ / ﻿39.54°N 104.97°W  ,\n",
              "               City  ST  2023 estimate  Peak population % decline from peak  \\\n",
              " 0        Allegheny  PA            NaN           129896                 NaN   \n",
              " 1         Brooklyn  NY            NaN           806343                 NaN   \n",
              " 2           Camden  NJ        71100.0           124555             −42.92%   \n",
              " 3           Canton  OH        69197.0           116912             −40.81%   \n",
              " 4   Citrus Heights  CA        86239.0           107439             −19.73%   \n",
              " 5        Daly City  CA        99833.0           104901              −4.83%   \n",
              " 6           Duluth  MN        87680.0           107312             −18.29%   \n",
              " 7             Erie  PA        92957.0           138440             −32.85%   \n",
              " 8       Fall River  MA        93840.0           120485             −22.11%   \n",
              " 9      Federal Way  WA        97701.0           101030              −3.30%   \n",
              " 10           Flint  MI        79661.0           196940             −59.55%   \n",
              " 11            Gary  IN        67652.0           178320             −62.06%   \n",
              " 12         Hammond  IN        76193.0           111698             −31.79%   \n",
              " 13         Livonia  MI        92185.0           110109             −16.28%   \n",
              " 14   Niagara Falls  NY        47599.0           102394             −53.51%   \n",
              " 15         Norwalk  CA        98078.0           105549              −7.08%   \n",
              " 16           Parma  OH        78951.0           100216             −21.22%   \n",
              " 17      Portsmouth  VA        97454.0           114773             −15.09%   \n",
              " 18         Reading  PA        94903.0           111171             −14.63%   \n",
              " 19         Roanoke  VA        99578.0           100220              −0.64%   \n",
              " 20        Scranton  PA        75805.0           143333             −47.11%   \n",
              " 21      Somerville  MA        80407.0           103908             −22.62%   \n",
              " 22      St. Joseph  MO        70634.0           102979             −31.41%   \n",
              " 23         Trenton  NJ        89620.0           128009             −29.99%   \n",
              " 24           Utica  NY        63607.0           101740             −37.48%   \n",
              " 25      Wilmington  DE        71675.0           112504             −36.29%   \n",
              " 26      Youngstown  OH        59108.0           170002             −65.23%   \n",
              " \n",
              "     Peak year Unnamed: 6  \n",
              " 0        1907        [z]  \n",
              " 1        1898       [aa]  \n",
              " 2        1950        NaN  \n",
              " 3        1950        NaN  \n",
              " 4        1990        NaN  \n",
              " 5        2020        NaN  \n",
              " 6        1960        NaN  \n",
              " 7        1960        NaN  \n",
              " 8        1920        NaN  \n",
              " 9        2020        NaN  \n",
              " 10       1960        NaN  \n",
              " 11       1960        NaN  \n",
              " 12       1960        NaN  \n",
              " 13       1970        NaN  \n",
              " 14       1960        NaN  \n",
              " 15       2010        NaN  \n",
              " 16       1970        NaN  \n",
              " 17       1960        NaN  \n",
              " 18       1930        NaN  \n",
              " 19       1980        NaN  \n",
              " 20       1930        NaN  \n",
              " 21       1930        NaN  \n",
              " 22       1900       [ab]  \n",
              " 23       1950        NaN  \n",
              " 24       1930        NaN  \n",
              " 25       1940        NaN  \n",
              " 26       1930        NaN  ,\n",
              "   vteThe 100 most populous cities of the United States  \\\n",
              " 0  New York, New York Los Angeles, California Chi...     \n",
              " 1                                                NaN     \n",
              " 2  Cities ranked by United States Census Bureau p...     \n",
              " \n",
              "   vteThe 100 most populous cities of the United States.1  \\\n",
              " 0  New York, New York Los Angeles, California Chi...       \n",
              " 1  New York, New York Los Angeles, California Chi...       \n",
              " 2  Cities ranked by United States Census Bureau p...       \n",
              " \n",
              "                                           Unnamed: 2  \\\n",
              " 0                                                NaN   \n",
              " 1  Portland, Oregon Louisville, Kentucky Memphis,...   \n",
              " 2                                                NaN   \n",
              " \n",
              "                                           Unnamed: 3  \\\n",
              " 0                                                NaN   \n",
              " 1  Arlington, Texas Aurora, Colorado New Orleans,...   \n",
              " 2                                                NaN   \n",
              " \n",
              "                                           Unnamed: 4  \n",
              " 0                                                NaN  \n",
              " 1  Chandler, Arizona North Las Vegas, Nevada Chul...  \n",
              " 2                                                NaN  ,\n",
              "     0                                                  1  \\\n",
              " 0 NaN  New York, New York Los Angeles, California Chi...   \n",
              " \n",
              "                                                    2  \\\n",
              " 0  Portland, Oregon Louisville, Kentucky Memphis,...   \n",
              " \n",
              "                                                    3  \\\n",
              " 0  Arlington, Texas Aurora, Colorado New Orleans,...   \n",
              " \n",
              "                                                    4  \n",
              " 0  Chandler, Arizona North Las Vegas, Nevada Chul...  ]"
            ]
          },
          "execution_count": 9,
          "metadata": {},
          "output_type": "execute_result"
        }
      ],
      "source": [
        "pd.read_html(\"https://en.wikipedia.org/wiki/List_of_United_States_cities_by_population\")"
      ]
    },
    {
      "cell_type": "markdown",
      "metadata": {
        "id": "pQwWgh_cqynb"
      },
      "source": [
        "However, this scrapes all the tables on the webpage, not just the one we want. As with Beautiful Soup, we can narrow the search by specifying the table attributes."
      ]
    },
    {
      "cell_type": "code",
      "execution_count": 10,
      "metadata": {
        "id": "4BKvPxa9qJ2-"
      },
      "outputs": [
        {
          "data": {
            "text/plain": [
              "[            City  ST 2023 estimate 2020 census  Change 2020 land area          \\\n",
              "             City  ST 2023 estimate 2020 census  Change            mi2     km2   \n",
              " 0    New York[c]  NY       8258035     8804190  −6.20%          300.5   778.3   \n",
              " 1    Los Angeles  CA       3820914     3898747  −2.00%          469.5  1216.0   \n",
              " 2        Chicago  IL       2664452     2746388  −2.98%          227.7   589.7   \n",
              " 3        Houston  TX       2314157     2304580  +0.42%          640.4  1658.6   \n",
              " 4        Phoenix  AZ       1650070     1608139  +2.61%          518.0  1341.6   \n",
              " ..           ...  ..           ...         ...     ...            ...     ...   \n",
              " 331         Yuma  AZ        100858       95548  +5.56%          120.7   312.6   \n",
              " 332  New Bedford  MA        100695      101079  −0.38%           20.0    51.8   \n",
              " 333   Suffolk[l]  VA        100659       94324  +6.72%          399.2  1033.9   \n",
              " 334     Hesperia  CA        100633       99818  +0.82%           72.7   188.3   \n",
              " 335    Davenport  IA        100354      101724  −1.35%           63.8   165.2   \n",
              " \n",
              "     2020 density                                      Location  \n",
              "            / mi2  / km2                               Location  \n",
              " 0          29298  11312    40°40′N 73°56′W﻿ / ﻿40.66°N 73.94°W  \n",
              " 1           8304   3206  34°01′N 118°25′W﻿ / ﻿34.02°N 118.41°W  \n",
              " 2          12061   4657    41°50′N 87°41′W﻿ / ﻿41.84°N 87.68°W  \n",
              " 3           3599   1390    29°47′N 95°23′W﻿ / ﻿29.79°N 95.39°W  \n",
              " 4           3105   1199  33°34′N 112°05′W﻿ / ﻿33.57°N 112.09°W  \n",
              " ..           ...    ...                                    ...  \n",
              " 331          792    306  32°31′N 114°31′W﻿ / ﻿32.52°N 114.52°W  \n",
              " 332         5054   1951    41°40′N 70°56′W﻿ / ﻿41.66°N 70.94°W  \n",
              " 333          236     91    36°42′N 76°38′W﻿ / ﻿36.70°N 76.63°W  \n",
              " 334         1373    530  34°24′N 117°19′W﻿ / ﻿34.40°N 117.32°W  \n",
              " 335         1594    615    41°34′N 90°36′W﻿ / ﻿41.56°N 90.60°W  \n",
              " \n",
              " [336 rows x 10 columns],\n",
              "   Municipio  2023 estimate  2020 census  Change 2020 land area  \\\n",
              " 0  San Juan         333005       342259  −2.70%     39.8 sq mi   \n",
              " 1   Bayamón         180835       185187  −2.35%     27.0 sq mi   \n",
              " 2  Carolina         150843       154815  −2.57%     20.7 sq mi   \n",
              " 3     Ponce         130251       137491  −5.27%     28.4 sq mi   \n",
              " 4    Caguas         124608       127244  −2.07%     10.9 sq mi   \n",
              " \n",
              "   2020 land area.1  2020 density 2020 density.1  \\\n",
              " 0        103.1 km2   8,599/sq mi      3,320/km2   \n",
              " 1         69.9 km2   6,859/sq mi      2,648/km2   \n",
              " 2         53.6 km2   7,479/sq mi      2,888/km2   \n",
              " 3         73.6 km2   4,841/sq mi      1,869/km2   \n",
              " 4         28.2 km2  11,674/sq mi      4,507/km2   \n",
              " \n",
              "                               Location  \n",
              " 0  18°24′N 66°04′W﻿ / ﻿18.40°N 66.06°W  \n",
              " 1  18°23′N 66°10′W﻿ / ﻿18.38°N 66.16°W  \n",
              " 2  18°25′N 65°59′W﻿ / ﻿18.41°N 65.98°W  \n",
              " 3  18°00′N 66°37′W﻿ / ﻿18.00°N 66.62°W  \n",
              " 4  18°14′N 66°02′W﻿ / ﻿18.23°N 66.04°W  ,\n",
              "               City  ST  2023 estimate  Peak population % decline from peak  \\\n",
              " 0        Allegheny  PA            NaN           129896                 NaN   \n",
              " 1         Brooklyn  NY            NaN           806343                 NaN   \n",
              " 2           Camden  NJ        71100.0           124555             −42.92%   \n",
              " 3           Canton  OH        69197.0           116912             −40.81%   \n",
              " 4   Citrus Heights  CA        86239.0           107439             −19.73%   \n",
              " 5        Daly City  CA        99833.0           104901              −4.83%   \n",
              " 6           Duluth  MN        87680.0           107312             −18.29%   \n",
              " 7             Erie  PA        92957.0           138440             −32.85%   \n",
              " 8       Fall River  MA        93840.0           120485             −22.11%   \n",
              " 9      Federal Way  WA        97701.0           101030              −3.30%   \n",
              " 10           Flint  MI        79661.0           196940             −59.55%   \n",
              " 11            Gary  IN        67652.0           178320             −62.06%   \n",
              " 12         Hammond  IN        76193.0           111698             −31.79%   \n",
              " 13         Livonia  MI        92185.0           110109             −16.28%   \n",
              " 14   Niagara Falls  NY        47599.0           102394             −53.51%   \n",
              " 15         Norwalk  CA        98078.0           105549              −7.08%   \n",
              " 16           Parma  OH        78951.0           100216             −21.22%   \n",
              " 17      Portsmouth  VA        97454.0           114773             −15.09%   \n",
              " 18         Reading  PA        94903.0           111171             −14.63%   \n",
              " 19         Roanoke  VA        99578.0           100220              −0.64%   \n",
              " 20        Scranton  PA        75805.0           143333             −47.11%   \n",
              " 21      Somerville  MA        80407.0           103908             −22.62%   \n",
              " 22      St. Joseph  MO        70634.0           102979             −31.41%   \n",
              " 23         Trenton  NJ        89620.0           128009             −29.99%   \n",
              " 24           Utica  NY        63607.0           101740             −37.48%   \n",
              " 25      Wilmington  DE        71675.0           112504             −36.29%   \n",
              " 26      Youngstown  OH        59108.0           170002             −65.23%   \n",
              " \n",
              "     Peak year Unnamed: 6  \n",
              " 0        1907        [z]  \n",
              " 1        1898       [aa]  \n",
              " 2        1950        NaN  \n",
              " 3        1950        NaN  \n",
              " 4        1990        NaN  \n",
              " 5        2020        NaN  \n",
              " 6        1960        NaN  \n",
              " 7        1960        NaN  \n",
              " 8        1920        NaN  \n",
              " 9        2020        NaN  \n",
              " 10       1960        NaN  \n",
              " 11       1960        NaN  \n",
              " 12       1960        NaN  \n",
              " 13       1970        NaN  \n",
              " 14       1960        NaN  \n",
              " 15       2010        NaN  \n",
              " 16       1970        NaN  \n",
              " 17       1960        NaN  \n",
              " 18       1930        NaN  \n",
              " 19       1980        NaN  \n",
              " 20       1930        NaN  \n",
              " 21       1930        NaN  \n",
              " 22       1900       [ab]  \n",
              " 23       1950        NaN  \n",
              " 24       1930        NaN  \n",
              " 25       1940        NaN  \n",
              " 26       1930        NaN  ]"
            ]
          },
          "execution_count": 10,
          "metadata": {},
          "output_type": "execute_result"
        }
      ],
      "source": [
        "pd.read_html(\"https://en.wikipedia.org/wiki/List_of_United_States_cities_by_population\", attrs = {'class': 'wikitable', \"style\": \"text-align:right\"})"
      ]
    },
    {
      "cell_type": "markdown",
      "metadata": {
        "id": "P6P7xCnPrBtS"
      },
      "source": [
        "This still returns 3 tables. As we remarked above, the table that we want is the first one (see `[0]` below)."
      ]
    },
    {
      "cell_type": "code",
      "execution_count": 11,
      "metadata": {
        "id": "96L5qJvGp7ks"
      },
      "outputs": [
        {
          "data": {
            "text/html": [
              "<div>\n",
              "<style scoped>\n",
              "    .dataframe tbody tr th:only-of-type {\n",
              "        vertical-align: middle;\n",
              "    }\n",
              "\n",
              "    .dataframe tbody tr th {\n",
              "        vertical-align: top;\n",
              "    }\n",
              "\n",
              "    .dataframe thead tr th {\n",
              "        text-align: left;\n",
              "    }\n",
              "</style>\n",
              "<table border=\"1\" class=\"dataframe\">\n",
              "  <thead>\n",
              "    <tr>\n",
              "      <th></th>\n",
              "      <th>City</th>\n",
              "      <th>ST</th>\n",
              "      <th>2023 estimate</th>\n",
              "      <th>2020 census</th>\n",
              "      <th>Change</th>\n",
              "      <th colspan=\"2\" halign=\"left\">2020 land area</th>\n",
              "      <th colspan=\"2\" halign=\"left\">2020 density</th>\n",
              "      <th>Location</th>\n",
              "    </tr>\n",
              "    <tr>\n",
              "      <th></th>\n",
              "      <th>City</th>\n",
              "      <th>ST</th>\n",
              "      <th>2023 estimate</th>\n",
              "      <th>2020 census</th>\n",
              "      <th>Change</th>\n",
              "      <th>mi2</th>\n",
              "      <th>km2</th>\n",
              "      <th>/ mi2</th>\n",
              "      <th>/ km2</th>\n",
              "      <th>Location</th>\n",
              "    </tr>\n",
              "  </thead>\n",
              "  <tbody>\n",
              "    <tr>\n",
              "      <th>0</th>\n",
              "      <td>New York[c]</td>\n",
              "      <td>NY</td>\n",
              "      <td>8258035</td>\n",
              "      <td>8804190</td>\n",
              "      <td>−6.20%</td>\n",
              "      <td>300.5</td>\n",
              "      <td>778.3</td>\n",
              "      <td>29298</td>\n",
              "      <td>11312</td>\n",
              "      <td>40°40′N 73°56′W﻿ / ﻿40.66°N 73.94°W</td>\n",
              "    </tr>\n",
              "    <tr>\n",
              "      <th>1</th>\n",
              "      <td>Los Angeles</td>\n",
              "      <td>CA</td>\n",
              "      <td>3820914</td>\n",
              "      <td>3898747</td>\n",
              "      <td>−2.00%</td>\n",
              "      <td>469.5</td>\n",
              "      <td>1216.0</td>\n",
              "      <td>8304</td>\n",
              "      <td>3206</td>\n",
              "      <td>34°01′N 118°25′W﻿ / ﻿34.02°N 118.41°W</td>\n",
              "    </tr>\n",
              "    <tr>\n",
              "      <th>2</th>\n",
              "      <td>Chicago</td>\n",
              "      <td>IL</td>\n",
              "      <td>2664452</td>\n",
              "      <td>2746388</td>\n",
              "      <td>−2.98%</td>\n",
              "      <td>227.7</td>\n",
              "      <td>589.7</td>\n",
              "      <td>12061</td>\n",
              "      <td>4657</td>\n",
              "      <td>41°50′N 87°41′W﻿ / ﻿41.84°N 87.68°W</td>\n",
              "    </tr>\n",
              "    <tr>\n",
              "      <th>3</th>\n",
              "      <td>Houston</td>\n",
              "      <td>TX</td>\n",
              "      <td>2314157</td>\n",
              "      <td>2304580</td>\n",
              "      <td>+0.42%</td>\n",
              "      <td>640.4</td>\n",
              "      <td>1658.6</td>\n",
              "      <td>3599</td>\n",
              "      <td>1390</td>\n",
              "      <td>29°47′N 95°23′W﻿ / ﻿29.79°N 95.39°W</td>\n",
              "    </tr>\n",
              "    <tr>\n",
              "      <th>4</th>\n",
              "      <td>Phoenix</td>\n",
              "      <td>AZ</td>\n",
              "      <td>1650070</td>\n",
              "      <td>1608139</td>\n",
              "      <td>+2.61%</td>\n",
              "      <td>518.0</td>\n",
              "      <td>1341.6</td>\n",
              "      <td>3105</td>\n",
              "      <td>1199</td>\n",
              "      <td>33°34′N 112°05′W﻿ / ﻿33.57°N 112.09°W</td>\n",
              "    </tr>\n",
              "    <tr>\n",
              "      <th>...</th>\n",
              "      <td>...</td>\n",
              "      <td>...</td>\n",
              "      <td>...</td>\n",
              "      <td>...</td>\n",
              "      <td>...</td>\n",
              "      <td>...</td>\n",
              "      <td>...</td>\n",
              "      <td>...</td>\n",
              "      <td>...</td>\n",
              "      <td>...</td>\n",
              "    </tr>\n",
              "    <tr>\n",
              "      <th>331</th>\n",
              "      <td>Yuma</td>\n",
              "      <td>AZ</td>\n",
              "      <td>100858</td>\n",
              "      <td>95548</td>\n",
              "      <td>+5.56%</td>\n",
              "      <td>120.7</td>\n",
              "      <td>312.6</td>\n",
              "      <td>792</td>\n",
              "      <td>306</td>\n",
              "      <td>32°31′N 114°31′W﻿ / ﻿32.52°N 114.52°W</td>\n",
              "    </tr>\n",
              "    <tr>\n",
              "      <th>332</th>\n",
              "      <td>New Bedford</td>\n",
              "      <td>MA</td>\n",
              "      <td>100695</td>\n",
              "      <td>101079</td>\n",
              "      <td>−0.38%</td>\n",
              "      <td>20.0</td>\n",
              "      <td>51.8</td>\n",
              "      <td>5054</td>\n",
              "      <td>1951</td>\n",
              "      <td>41°40′N 70°56′W﻿ / ﻿41.66°N 70.94°W</td>\n",
              "    </tr>\n",
              "    <tr>\n",
              "      <th>333</th>\n",
              "      <td>Suffolk[l]</td>\n",
              "      <td>VA</td>\n",
              "      <td>100659</td>\n",
              "      <td>94324</td>\n",
              "      <td>+6.72%</td>\n",
              "      <td>399.2</td>\n",
              "      <td>1033.9</td>\n",
              "      <td>236</td>\n",
              "      <td>91</td>\n",
              "      <td>36°42′N 76°38′W﻿ / ﻿36.70°N 76.63°W</td>\n",
              "    </tr>\n",
              "    <tr>\n",
              "      <th>334</th>\n",
              "      <td>Hesperia</td>\n",
              "      <td>CA</td>\n",
              "      <td>100633</td>\n",
              "      <td>99818</td>\n",
              "      <td>+0.82%</td>\n",
              "      <td>72.7</td>\n",
              "      <td>188.3</td>\n",
              "      <td>1373</td>\n",
              "      <td>530</td>\n",
              "      <td>34°24′N 117°19′W﻿ / ﻿34.40°N 117.32°W</td>\n",
              "    </tr>\n",
              "    <tr>\n",
              "      <th>335</th>\n",
              "      <td>Davenport</td>\n",
              "      <td>IA</td>\n",
              "      <td>100354</td>\n",
              "      <td>101724</td>\n",
              "      <td>−1.35%</td>\n",
              "      <td>63.8</td>\n",
              "      <td>165.2</td>\n",
              "      <td>1594</td>\n",
              "      <td>615</td>\n",
              "      <td>41°34′N 90°36′W﻿ / ﻿41.56°N 90.60°W</td>\n",
              "    </tr>\n",
              "  </tbody>\n",
              "</table>\n",
              "<p>336 rows × 10 columns</p>\n",
              "</div>"
            ],
            "text/plain": [
              "            City  ST 2023 estimate 2020 census  Change 2020 land area          \\\n",
              "            City  ST 2023 estimate 2020 census  Change            mi2     km2   \n",
              "0    New York[c]  NY       8258035     8804190  −6.20%          300.5   778.3   \n",
              "1    Los Angeles  CA       3820914     3898747  −2.00%          469.5  1216.0   \n",
              "2        Chicago  IL       2664452     2746388  −2.98%          227.7   589.7   \n",
              "3        Houston  TX       2314157     2304580  +0.42%          640.4  1658.6   \n",
              "4        Phoenix  AZ       1650070     1608139  +2.61%          518.0  1341.6   \n",
              "..           ...  ..           ...         ...     ...            ...     ...   \n",
              "331         Yuma  AZ        100858       95548  +5.56%          120.7   312.6   \n",
              "332  New Bedford  MA        100695      101079  −0.38%           20.0    51.8   \n",
              "333   Suffolk[l]  VA        100659       94324  +6.72%          399.2  1033.9   \n",
              "334     Hesperia  CA        100633       99818  +0.82%           72.7   188.3   \n",
              "335    Davenport  IA        100354      101724  −1.35%           63.8   165.2   \n",
              "\n",
              "    2020 density                                      Location  \n",
              "           / mi2  / km2                               Location  \n",
              "0          29298  11312    40°40′N 73°56′W﻿ / ﻿40.66°N 73.94°W  \n",
              "1           8304   3206  34°01′N 118°25′W﻿ / ﻿34.02°N 118.41°W  \n",
              "2          12061   4657    41°50′N 87°41′W﻿ / ﻿41.84°N 87.68°W  \n",
              "3           3599   1390    29°47′N 95°23′W﻿ / ﻿29.79°N 95.39°W  \n",
              "4           3105   1199  33°34′N 112°05′W﻿ / ﻿33.57°N 112.09°W  \n",
              "..           ...    ...                                    ...  \n",
              "331          792    306  32°31′N 114°31′W﻿ / ﻿32.52°N 114.52°W  \n",
              "332         5054   1951    41°40′N 70°56′W﻿ / ﻿41.66°N 70.94°W  \n",
              "333          236     91    36°42′N 76°38′W﻿ / ﻿36.70°N 76.63°W  \n",
              "334         1373    530  34°24′N 117°19′W﻿ / ﻿34.40°N 117.32°W  \n",
              "335         1594    615    41°34′N 90°36′W﻿ / ﻿41.56°N 90.60°W  \n",
              "\n",
              "[336 rows x 10 columns]"
            ]
          },
          "execution_count": 11,
          "metadata": {},
          "output_type": "execute_result"
        }
      ],
      "source": [
        "df_cities2 = pd.read_html(\"https://en.wikipedia.org/wiki/List_of_United_States_cities_by_population\", attrs = {'class': 'wikitable', \"style\": \"text-align:right\"})[0]\n",
        "df_cities2"
      ]
    },
    {
      "cell_type": "markdown",
      "metadata": {
        "id": "TjeczIIMYeqj"
      },
      "source": [
        "Wait, that seemed much easier than using Beautiful Soup, and it returned a data frame, and we even got for free some formatting like removing the commas from the population! Why didn't we just use `read_html` in the first place? It's true the `read_html` works well when scraping information from an HTML *table*. Unfortunately, you often want to scrape information from a webpage that isn't conveniently stored in an HTML table, in which case `read_html` won't work. (It only searches for `<table>`, `<th>`, `<tr>`, and `<td>` tags, but there are many other HTML tags.) Though Beautiful Soup is not as simple as `read_html`, it is more flexible and thus more widely applicable."
      ]
    },
    {
      "cell_type": "markdown",
      "metadata": {
        "id": "ctj79YpgX6hw"
      },
      "source": [
        "## Scraping information that is NOT in a `<table>` with Beautiful Soup"
      ]
    },
    {
      "cell_type": "markdown",
      "metadata": {
        "id": "KK6rJQbuuWwF"
      },
      "source": [
        "The Cal Poly course catalog http://catalog.calpoly.edu/collegesandprograms/collegeofsciencemathematics/statistics/#courseinventory contains a list of courses offered by the Statistics department. **You will scrape this website to obtain a Pandas data frame with one row for each DATA or STAT course and two columns: course name and number (e.g, DATA 301. Introduction to Data Science) and term typically offered (e.g., Term Typically Offered: F, W, SP).**"
      ]
    },
    {
      "cell_type": "markdown",
      "metadata": {
        "id": "hbLLrwxs0eWd"
      },
      "source": [
        "Note: Pandas `read_html` is not help here since the courses are not stored in a `<table>.`"
      ]
    },
    {
      "cell_type": "code",
      "execution_count": 12,
      "metadata": {
        "id": "QIRewkca0jhz"
      },
      "outputs": [
        {
          "data": {
            "text/plain": [
              "[                                        Program name   Program type\n",
              " 0                              Actuarial Preparation          Minor\n",
              " 1  Cross Disciplinary Studies Minor in Bioinforma...          Minor\n",
              " 2   Cross Disciplinary Studies Minor in Data Science          Minor\n",
              " 3                                         Statistics  BS, MS, Minor]"
            ]
          },
          "execution_count": 12,
          "metadata": {},
          "output_type": "execute_result"
        }
      ],
      "source": [
        "pd.read_html(\"http://catalog.calpoly.edu/collegesandprograms/collegeofsciencemathematics/statistics/#courseinventory\")"
      ]
    },
    {
      "cell_type": "markdown",
      "metadata": {
        "id": "lvSrhxS4Se7a"
      },
      "source": [
        "\n",
        "Notes/suggestions:\n",
        "\n",
        "\n",
        "- Inspect the page source as you write your code\n",
        "- The courses are not stored in a `<table>`. How are they stored?\n",
        "- You will need to write a loop to get the information for all courses, but you might want to try just scraping the info for DATA 100 first\n",
        "- What kind of tag is the course name stored in? What is the `class` of the tag?\n",
        "- What kind of tag is the quarter(s) the course is offered stored in? What is the `class` of the tag? Is this the only tag of this type with the class? How will you get the one you want?\n",
        "- You don't have to remove the number of units (e.g., 4 units) from the course name and number, but you can try it if you want\n",
        "- You will need to pull the text from the tag. If `.text` returns text with \"\\n\" at the end, try `get_text(strip = True)` instead of `text`\n",
        "- Don't forget to convert to a Pandas Data Frame; it should have 74 rows and 2 columns\n",
        "- The goal of this exercise is just to create the Data Frame. If you were going to use it then you might need to clean the data first. (You can use Beautiful Soup to do some of the cleaning for you, but that goes beyond our scope.)\n",
        "\n"
      ]
    },
    {
      "cell_type": "code",
      "execution_count": 13,
      "metadata": {
        "id": "ZbW6xon4vICB"
      },
      "outputs": [],
      "source": [
        "# Get the HTML content from the webpage\n",
        "response = requests.get(\"http://catalog.calpoly.edu/collegesandprograms/collegeofsciencemathematics/statistics/#courseinventory\")\n",
        "htmlContent = response.text\n",
        "soup = BeautifulSoup(htmlContent, 'html.parser')\n",
        "courseBlocks = soup.find_all(\"div\", {\"class\": \"courseblock\"})\n",
        "\n",
        "courseNames = []\n",
        "termsOffered = []\n",
        "\n",
        "for block in courseBlocks:\n",
        "    # Find the course name and term\n",
        "    courseNameTag = block.find(\"p\", {\"class\": \"courseblocktitle\"})\n",
        "    termOfferedTag = block.find(\"p\", {\"class\": \"noindent\"})\n",
        "\n",
        "    # Extract the course name text (strip to remove extra spaces/newlines)\n",
        "    courseName = courseNameTag.get_text(strip=True)\n",
        "\n",
        "    # Remove the span tag with units, if present\n",
        "    span = courseNameTag.find(\"span\")\n",
        "    if span:\n",
        "        span.extract()\n",
        "\n",
        "    # Extract the term text\n",
        "    termOffered = termOfferedTag.get_text(strip=True) if termOfferedTag else \"N/A\"\n",
        "\n",
        "    # Append the data to the lists\n",
        "    courseNames.append(courseName)\n",
        "    termsOffered.append(termOffered)\n"
      ]
    },
    {
      "cell_type": "code",
      "execution_count": 14,
      "metadata": {},
      "outputs": [
        {
          "data": {
            "text/html": [
              "<div>\n",
              "<style scoped>\n",
              "    .dataframe tbody tr th:only-of-type {\n",
              "        vertical-align: middle;\n",
              "    }\n",
              "\n",
              "    .dataframe tbody tr th {\n",
              "        vertical-align: top;\n",
              "    }\n",
              "\n",
              "    .dataframe thead th {\n",
              "        text-align: right;\n",
              "    }\n",
              "</style>\n",
              "<table border=\"1\" class=\"dataframe\">\n",
              "  <thead>\n",
              "    <tr style=\"text-align: right;\">\n",
              "      <th></th>\n",
              "      <th>Course Name</th>\n",
              "      <th>Term Offered</th>\n",
              "    </tr>\n",
              "  </thead>\n",
              "  <tbody>\n",
              "    <tr>\n",
              "      <th>0</th>\n",
              "      <td>DATA 100. Data Science for All I.4 units</td>\n",
              "      <td>Term Typically Offered: F, W, SP</td>\n",
              "    </tr>\n",
              "    <tr>\n",
              "      <th>1</th>\n",
              "      <td>DATA 301. Introduction to Data Science.4 units</td>\n",
              "      <td>Term Typically Offered: F, W, SP</td>\n",
              "    </tr>\n",
              "    <tr>\n",
              "      <th>2</th>\n",
              "      <td>DATA 401. Data Science Process and Ethics.3 units</td>\n",
              "      <td>Term Typically Offered: F</td>\n",
              "    </tr>\n",
              "    <tr>\n",
              "      <th>3</th>\n",
              "      <td>DATA 402. Mathematical Foundations of Data Sci...</td>\n",
              "      <td>Term Typically Offered: F</td>\n",
              "    </tr>\n",
              "    <tr>\n",
              "      <th>4</th>\n",
              "      <td>DATA 403. Data Science Projects Laboratory.1 unit</td>\n",
              "      <td>Term Typically Offered: F</td>\n",
              "    </tr>\n",
              "    <tr>\n",
              "      <th>...</th>\n",
              "      <td>...</td>\n",
              "      <td>...</td>\n",
              "    </tr>\n",
              "    <tr>\n",
              "      <th>69</th>\n",
              "      <td>STAT 551. Statistical Learning with R.4 units</td>\n",
              "      <td>Term Typically Offered: F</td>\n",
              "    </tr>\n",
              "    <tr>\n",
              "      <th>70</th>\n",
              "      <td>STAT 566. Graduate Consulting Practicum.2 units</td>\n",
              "      <td>Term Typically Offered: SP</td>\n",
              "    </tr>\n",
              "    <tr>\n",
              "      <th>71</th>\n",
              "      <td>STAT 570. Selected Advanced Topics.1-4 units</td>\n",
              "      <td>Term Typically Offered: TBD</td>\n",
              "    </tr>\n",
              "    <tr>\n",
              "      <th>72</th>\n",
              "      <td>STAT 590. Graduate Seminar in Statistics.1 unit</td>\n",
              "      <td>Term Typically Offered: F, W, SP</td>\n",
              "    </tr>\n",
              "    <tr>\n",
              "      <th>73</th>\n",
              "      <td>STAT 599. Thesis.1-4 units</td>\n",
              "      <td>Term Typically Offered: TBD</td>\n",
              "    </tr>\n",
              "  </tbody>\n",
              "</table>\n",
              "<p>74 rows × 2 columns</p>\n",
              "</div>"
            ],
            "text/plain": [
              "                                          Course Name  \\\n",
              "0            DATA 100. Data Science for All I.4 units   \n",
              "1      DATA 301. Introduction to Data Science.4 units   \n",
              "2   DATA 401. Data Science Process and Ethics.3 units   \n",
              "3   DATA 402. Mathematical Foundations of Data Sci...   \n",
              "4   DATA 403. Data Science Projects Laboratory.1 unit   \n",
              "..                                                ...   \n",
              "69      STAT 551. Statistical Learning with R.4 units   \n",
              "70    STAT 566. Graduate Consulting Practicum.2 units   \n",
              "71       STAT 570. Selected Advanced Topics.1-4 units   \n",
              "72    STAT 590. Graduate Seminar in Statistics.1 unit   \n",
              "73                         STAT 599. Thesis.1-4 units   \n",
              "\n",
              "                        Term Offered  \n",
              "0   Term Typically Offered: F, W, SP  \n",
              "1   Term Typically Offered: F, W, SP  \n",
              "2          Term Typically Offered: F  \n",
              "3          Term Typically Offered: F  \n",
              "4          Term Typically Offered: F  \n",
              "..                               ...  \n",
              "69         Term Typically Offered: F  \n",
              "70        Term Typically Offered: SP  \n",
              "71       Term Typically Offered: TBD  \n",
              "72  Term Typically Offered: F, W, SP  \n",
              "73       Term Typically Offered: TBD  \n",
              "\n",
              "[74 rows x 2 columns]"
            ]
          },
          "execution_count": 14,
          "metadata": {},
          "output_type": "execute_result"
        }
      ],
      "source": [
        "# Create a DataFrame with the course names and terms offered\n",
        "df = pd.DataFrame({\n",
        "    \"Course Name\": courseNames,\n",
        "    \"Term Offered\": termsOffered\n",
        "})\n",
        "\n",
        "# Display the DataFrame\n",
        "df"
      ]
    },
    {
      "cell_type": "markdown",
      "metadata": {
        "id": "17e8M_OsaHJz"
      },
      "source": [
        "Hints:\n",
        "\n",
        "- Each course is represented by a `<div>` with `class=courseblock`, so you can find all the courses with `soup.find_all(\"div\", {\"class\": \"courseblock\"})`\n",
        "- The course name is in a `<p>` tag with `class=courseblocktitle`, inside a `<strong>` tag. (Though I don't think we need to find the strong tag here.)\n",
        "- The term typically offered is in `<p>` tag with `class=noindent`. However, there are several tags with this class; term typically offered is the first one.\n",
        "- If you want to use Beautiful Soup to remove the course units (e.g., 4 units), find the `<span>` tag within the course name tag and `.extract()` this span tag"
      ]
    }
  ],
  "metadata": {
    "colab": {
      "provenance": []
    },
    "kernelspec": {
      "display_name": "Python 3",
      "name": "python3"
    },
    "language_info": {
      "codemirror_mode": {
        "name": "ipython",
        "version": 3
      },
      "file_extension": ".py",
      "mimetype": "text/x-python",
      "name": "python",
      "nbconvert_exporter": "python",
      "pygments_lexer": "ipython3",
      "version": "3.11.4"
    }
  },
  "nbformat": 4,
  "nbformat_minor": 0
}
